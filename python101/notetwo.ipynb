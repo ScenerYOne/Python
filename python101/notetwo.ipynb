{
 "cells": [
  {
   "metadata": {
    "ExecuteTime": {
     "end_time": "2024-08-18T02:50:29.289251Z",
     "start_time": "2024-08-18T02:50:29.284044Z"
    }
   },
   "cell_type": "code",
   "source": [
    "from abc import ABC, abstractmethod\n",
    "\n",
    "class Animal(ABC):\n",
    "    @abstractmethod\n",
    "    def speak(self):\n",
    "        pass\n",
    "    \n",
    "class Dog(Animal):\n",
    "    def speak(self):\n",
    "        return \"Woof!\"\n",
    "    \n",
    "class Cat(Animal):\n",
    "    def speak(self):\n",
    "        return \"Meow!\"\n",
    "\n",
    "# Using Polymorphism\n",
    "dog = Dog()\n",
    "cat = Cat()\n",
    "\n",
    "for x in (dog, cat):\n",
    "    print(x.speak())"
   ],
   "id": "e0ef2a2f45a9488b",
   "outputs": [
    {
     "name": "stdout",
     "output_type": "stream",
     "text": [
      "Woof!\n",
      "Meow!\n"
     ]
    }
   ],
   "execution_count": 1
  },
  {
   "metadata": {
    "ExecuteTime": {
     "end_time": "2024-08-18T02:50:38.202956Z",
     "start_time": "2024-08-18T02:50:38.197932Z"
    }
   },
   "cell_type": "code",
   "source": [
    "from abc import ABC, abstractmethod\n",
    "\n",
    "class Shape(ABC):  # Abstract base class\n",
    "    @abstractmethod\n",
    "    def area(self):\n",
    "        pass\n",
    "\n",
    "    @abstractmethod\n",
    "    def perimeter(self):\n",
    "        pass\n",
    "\n",
    "class Circle(Shape):  # Concrete class implementing the abstract methods\n",
    "    def __init__(self, radius):\n",
    "        self.radius = radius\n",
    "\n",
    "    def area(self):\n",
    "        return 3.14 * (self.radius ** 2)\n",
    "\n",
    "    def perimeter(self):\n",
    "        return 2 * 3.14 * self.radius\n",
    "\n",
    "# Using Abstraction\n",
    "circle = Circle(5)\n",
    "print(f\"Area of circle: {circle.area()}\")\n",
    "print(f\"Perimeter of circle: {circle.perimeter()}\")"
   ],
   "id": "8bcd19250bb3056e",
   "outputs": [
    {
     "name": "stdout",
     "output_type": "stream",
     "text": [
      "Area of circle: 78.5\n",
      "Perimeter of circle: 31.400000000000002\n"
     ]
    }
   ],
   "execution_count": 2
  },
  {
   "metadata": {
    "ExecuteTime": {
     "end_time": "2024-08-18T02:50:47.284642Z",
     "start_time": "2024-08-18T02:50:47.280680Z"
    }
   },
   "cell_type": "code",
   "source": [
    "# Create a Class\n",
    "# Python is an object oriented programming language.\n",
    "# A Class is like a \"blueprint\" for creating objects.\n",
    "\n",
    "class MyClass:\n",
    "    # Class body\n",
    "    x = 5\n",
    "\n",
    "# Create an Object\n",
    "# Once we have a class, we can use it to create objects.\n",
    "# Object is an instance of a class.\n",
    "\n",
    "ob1 = MyClass()\n",
    "print(ob1.x)"
   ],
   "id": "dda31500cec88725",
   "outputs": [
    {
     "name": "stdout",
     "output_type": "stream",
     "text": [
      "5\n"
     ]
    }
   ],
   "execution_count": 3
  },
  {
   "metadata": {
    "ExecuteTime": {
     "end_time": "2024-08-18T02:51:37.971819Z",
     "start_time": "2024-08-18T02:51:37.968122Z"
    }
   },
   "cell_type": "code",
   "source": [
    "# The Example of Class\n",
    "# Class will have properties and methods.\n",
    "# Properties are like variables attached to the class.\n",
    "# Methods are like functions attached to the class.\n",
    "\n",
    "class Person:\n",
    "    def __init__(self, name, age): # The __init__() function is called automatically every time the class is being used to create a new object.\n",
    "        self.name = name # Property\n",
    "        self.age = age # Property\n",
    "        print(\"Enter init\")\n",
    "    \n",
    "    def speak(self): # Method\n",
    "        print(\"Hello my name is \" + self.name)\n",
    "    \n",
    "person = Person(\"John\", 36)\n",
    "person.speak()"
   ],
   "id": "277c7a9f8e9dcf54",
   "outputs": [
    {
     "name": "stdout",
     "output_type": "stream",
     "text": [
      "Enter init\n",
      "Hello my name is John\n"
     ]
    }
   ],
   "execution_count": 4
  },
  {
   "metadata": {
    "ExecuteTime": {
     "end_time": "2024-08-18T02:57:31.704755Z",
     "start_time": "2024-08-18T02:57:31.698479Z"
    }
   },
   "cell_type": "code",
   "source": [
    "class Vehicle:\n",
    "    def __init__(self, brand, speed):\n",
    "        self.brand = brand\n",
    "        self.speed = speed\n",
    "\n",
    "    def show_info(self):\n",
    "        print(f\"Brand: {self.brand}, Speed: {self.speed} km/h\")\n",
    "\n",
    "class Car(Vehicle):  # Inherits all properties and methods from the Vehicle class\n",
    "    def __init__(self, brand, speed, fuel_type): \n",
    "        super().__init__(brand, speed)  # Calls the parent class constructor\n",
    "        self.fuel_type = fuel_type\n",
    "\n",
    "    def show_car_info(self):\n",
    "        self.show_info()  # Inherited method\n",
    "        print(f\"Fuel Type: {self.fuel_type}\")\n",
    "\n",
    "# normal class\n",
    "my_vehicle = Vehicle(\"Toyota\", 180)\n",
    "my_vehicle.show_info()\n",
    "\n",
    "# Using Inheritance\n",
    "my_car = Car(\"Honda\", 180, \"Petrol\")\n",
    "my_car.show_car_info()"
   ],
   "id": "3f66392475bbc2ba",
   "outputs": [
    {
     "name": "stdout",
     "output_type": "stream",
     "text": [
      "Brand: Toyota, Speed: 180 km/h\n",
      "Brand: Honda, Speed: 180 km/h\n",
      "Fuel Type: Petrol\n"
     ]
    }
   ],
   "execution_count": 7
  },
  {
   "metadata": {
    "ExecuteTime": {
     "end_time": "2024-08-18T03:05:18.217372Z",
     "start_time": "2024-08-18T03:05:18.212124Z"
    }
   },
   "cell_type": "code",
   "source": [
    "from abc import ABC, abstractmethod\n",
    "\n",
    "class Shape(ABC):  # Abstract base class\n",
    "    @abstractmethod\n",
    "    def area(self):\n",
    "        pass\n",
    "\n",
    "    @abstractmethod\n",
    "    def perimeter(self):\n",
    "        pass\n",
    "\n",
    "class Circle(Shape):  # Concrete class implementing the abstract methods\n",
    "    def __init__(self, radius):\n",
    "        self.radius = radius\n",
    "\n",
    "    def area(self):\n",
    "        return 3.14 * (self.radius ** 2)\n",
    "\n",
    "    def perimeter(self):\n",
    "        return 2 * 3.14 * self.radius\n",
    "\n",
    "class Square(Shape): #workshop 10:06 T\n",
    "    def __init__(self, width, height):\n",
    "        self.width = width\n",
    "        self.height = height\n",
    "        \n",
    "    def area(self):\n",
    "        return self.width * self.height\n",
    "    \n",
    "    def perimeter(self):\n",
    "        return 2 * (self.width + self.height)\n",
    "# Using Abstraction\n",
    "circle = Circle(5)\n",
    "print(f\"Area of circle: {circle.area()}\")\n",
    "print(f\"Perimeter of circle: {circle.perimeter()}\")\n",
    "\n",
    "Square = Square(5, 5)\n",
    "print(f\"Area of Square: {Square.area()}\")\n",
    "print(f\"Perimeter of Square: {Square.perimeter()}\")"
   ],
   "id": "3e1ff4b7479b0b39",
   "outputs": [
    {
     "name": "stdout",
     "output_type": "stream",
     "text": [
      "Area of circle: 78.5\n",
      "Perimeter of circle: 31.400000000000002\n",
      "Area of Square: 25\n",
      "Perimeter of Square: 20\n"
     ]
    }
   ],
   "execution_count": 10
  },
  {
   "metadata": {
    "ExecuteTime": {
     "end_time": "2024-08-18T03:13:22.680401Z",
     "start_time": "2024-08-18T03:13:22.676951Z"
    }
   },
   "cell_type": "code",
   "source": [
    "from abc import ABC, abstractmethod\n",
    "\n",
    "class Animal(ABC):\n",
    "    @abstractmethod\n",
    "    def sound(self):\n",
    "        pass\n",
    "\n",
    "class Dog:\n",
    "    def sound(self):\n",
    "        return \"Woof!\"\n",
    "\n",
    "class Cat:\n",
    "    def sound(self):\n",
    "        return \"Meow!\"\n",
    "\n",
    "def make_sound(animal):\n",
    "    print(animal.sound())\n",
    "\n",
    "dog = Dog()\n",
    "cat = Cat()\n",
    "\n",
    "make_sound(dog)  # Output: Woof!\n",
    "make_sound(cat)  # Output: Meow!\n"
   ],
   "id": "6c4d00404c8524e8",
   "outputs": [
    {
     "name": "stdout",
     "output_type": "stream",
     "text": [
      "Woof!\n",
      "Meow!\n"
     ]
    }
   ],
   "execution_count": 12
  },
  {
   "metadata": {},
   "cell_type": "markdown",
   "source": "Basic Pandas Data Structure",
   "id": "5ef30be3af438220"
  },
  {
   "metadata": {
    "ExecuteTime": {
     "end_time": "2024-08-18T04:13:34.555895Z",
     "start_time": "2024-08-18T04:13:33.744996Z"
    }
   },
   "cell_type": "code",
   "source": [
    "import pandas as pd\n",
    "\n",
    "s = pd.Series([1, 2, 3, 4, 5])\n",
    "print(s)"
   ],
   "id": "d65a79828036849",
   "outputs": [
    {
     "name": "stdout",
     "output_type": "stream",
     "text": [
      "0    1\n",
      "1    2\n",
      "2    3\n",
      "3    4\n",
      "4    5\n",
      "dtype: int64\n"
     ]
    }
   ],
   "execution_count": 13
  },
  {
   "metadata": {},
   "cell_type": "markdown",
   "source": "Data type Dict",
   "id": "44c15c4d254d3346"
  },
  {
   "metadata": {
    "ExecuteTime": {
     "end_time": "2024-08-18T04:18:33.343318Z",
     "start_time": "2024-08-18T04:18:33.336529Z"
    }
   },
   "cell_type": "code",
   "source": [
    "d = {'a': 1, 'b': 2, 'c': 3, 'd': 4, 'e': 5}\n",
    "s =pd.Series(d)\n",
    "print(s)"
   ],
   "id": "51b0132762466f7a",
   "outputs": [
    {
     "name": "stdout",
     "output_type": "stream",
     "text": [
      "a    1\n",
      "b    2\n",
      "c    3\n",
      "d    4\n",
      "e    5\n",
      "dtype: int64\n"
     ]
    }
   ],
   "execution_count": 14
  },
  {
   "metadata": {
    "ExecuteTime": {
     "end_time": "2024-08-18T04:20:50.226856Z",
     "start_time": "2024-08-18T04:20:50.218522Z"
    }
   },
   "cell_type": "code",
   "source": [
    "# Creating a .Series() has Index and name parameters that can be set.\n",
    "s = pd.Series([1, 2, 3, 4, 5], index=['a', 'b', 'c', 'd', 'e'], name='example series')\n",
    "s"
   ],
   "id": "9289eb8b291639ac",
   "outputs": [
    {
     "data": {
      "text/plain": [
       "a    1\n",
       "b    2\n",
       "c    3\n",
       "d    4\n",
       "e    5\n",
       "Name: example series, dtype: int64"
      ]
     },
     "execution_count": 15,
     "metadata": {},
     "output_type": "execute_result"
    }
   ],
   "execution_count": 15
  },
  {
   "metadata": {
    "ExecuteTime": {
     "end_time": "2024-08-18T04:21:03.960985Z",
     "start_time": "2024-08-18T04:21:03.953291Z"
    }
   },
   "cell_type": "code",
   "source": [
    "df1= pd.DataFrame()\n",
    "print(df1)\n",
    "\n",
    "df1['name'] = ['John', 'Paul', 'George', 'Ringo']\n",
    "df1['grade'] = [90, 80, 70, 60]\n",
    "df1"
   ],
   "id": "c89792447ba89957",
   "outputs": [
    {
     "name": "stdout",
     "output_type": "stream",
     "text": [
      "Empty DataFrame\n",
      "Columns: []\n",
      "Index: []\n"
     ]
    },
    {
     "data": {
      "text/plain": [
       "     name  grade\n",
       "0    John     90\n",
       "1    Paul     80\n",
       "2  George     70\n",
       "3   Ringo     60"
      ],
      "text/html": [
       "<div>\n",
       "<style scoped>\n",
       "    .dataframe tbody tr th:only-of-type {\n",
       "        vertical-align: middle;\n",
       "    }\n",
       "\n",
       "    .dataframe tbody tr th {\n",
       "        vertical-align: top;\n",
       "    }\n",
       "\n",
       "    .dataframe thead th {\n",
       "        text-align: right;\n",
       "    }\n",
       "</style>\n",
       "<table border=\"1\" class=\"dataframe\">\n",
       "  <thead>\n",
       "    <tr style=\"text-align: right;\">\n",
       "      <th></th>\n",
       "      <th>name</th>\n",
       "      <th>grade</th>\n",
       "    </tr>\n",
       "  </thead>\n",
       "  <tbody>\n",
       "    <tr>\n",
       "      <th>0</th>\n",
       "      <td>John</td>\n",
       "      <td>90</td>\n",
       "    </tr>\n",
       "    <tr>\n",
       "      <th>1</th>\n",
       "      <td>Paul</td>\n",
       "      <td>80</td>\n",
       "    </tr>\n",
       "    <tr>\n",
       "      <th>2</th>\n",
       "      <td>George</td>\n",
       "      <td>70</td>\n",
       "    </tr>\n",
       "    <tr>\n",
       "      <th>3</th>\n",
       "      <td>Ringo</td>\n",
       "      <td>60</td>\n",
       "    </tr>\n",
       "  </tbody>\n",
       "</table>\n",
       "</div>"
      ]
     },
     "execution_count": 16,
     "metadata": {},
     "output_type": "execute_result"
    }
   ],
   "execution_count": 16
  },
  {
   "metadata": {
    "ExecuteTime": {
     "end_time": "2024-08-18T04:28:47.747847Z",
     "start_time": "2024-08-18T04:28:47.740413Z"
    }
   },
   "cell_type": "code",
   "source": [
    "df_animal = pd.DataFrame()\n",
    "\n",
    "df_animal ['name'] = ['cat', 'Dog', 'fish']\n",
    "df_animal['wight'] = [30, 40, 10]\n",
    "\n",
    "df_animal"
   ],
   "id": "dc4cf0f26e463757",
   "outputs": [
    {
     "data": {
      "text/plain": [
       "   name  wight\n",
       "0   cat     30\n",
       "1   Dog     40\n",
       "2  fish     10"
      ],
      "text/html": [
       "<div>\n",
       "<style scoped>\n",
       "    .dataframe tbody tr th:only-of-type {\n",
       "        vertical-align: middle;\n",
       "    }\n",
       "\n",
       "    .dataframe tbody tr th {\n",
       "        vertical-align: top;\n",
       "    }\n",
       "\n",
       "    .dataframe thead th {\n",
       "        text-align: right;\n",
       "    }\n",
       "</style>\n",
       "<table border=\"1\" class=\"dataframe\">\n",
       "  <thead>\n",
       "    <tr style=\"text-align: right;\">\n",
       "      <th></th>\n",
       "      <th>name</th>\n",
       "      <th>wight</th>\n",
       "    </tr>\n",
       "  </thead>\n",
       "  <tbody>\n",
       "    <tr>\n",
       "      <th>0</th>\n",
       "      <td>cat</td>\n",
       "      <td>30</td>\n",
       "    </tr>\n",
       "    <tr>\n",
       "      <th>1</th>\n",
       "      <td>Dog</td>\n",
       "      <td>40</td>\n",
       "    </tr>\n",
       "    <tr>\n",
       "      <th>2</th>\n",
       "      <td>fish</td>\n",
       "      <td>10</td>\n",
       "    </tr>\n",
       "  </tbody>\n",
       "</table>\n",
       "</div>"
      ]
     },
     "execution_count": 21,
     "metadata": {},
     "output_type": "execute_result"
    }
   ],
   "execution_count": 21
  },
  {
   "metadata": {
    "ExecuteTime": {
     "end_time": "2024-08-18T04:28:44.045528Z",
     "start_time": "2024-08-18T04:28:44.039173Z"
    }
   },
   "cell_type": "code",
   "source": [
    "dictionary = {\n",
    "    'name': ['John', 'Paul', 'George', 'Ringo'],\n",
    "    'grade': [90, 80, 70, 60]\n",
    "}\n",
    "\n",
    "df2 = pd.DataFrame(dictionary)\n",
    "df2\n"
   ],
   "id": "693e07cd1caa0335",
   "outputs": [
    {
     "data": {
      "text/plain": [
       "     name  grade\n",
       "0    John     90\n",
       "1    Paul     80\n",
       "2  George     70\n",
       "3   Ringo     60"
      ],
      "text/html": [
       "<div>\n",
       "<style scoped>\n",
       "    .dataframe tbody tr th:only-of-type {\n",
       "        vertical-align: middle;\n",
       "    }\n",
       "\n",
       "    .dataframe tbody tr th {\n",
       "        vertical-align: top;\n",
       "    }\n",
       "\n",
       "    .dataframe thead th {\n",
       "        text-align: right;\n",
       "    }\n",
       "</style>\n",
       "<table border=\"1\" class=\"dataframe\">\n",
       "  <thead>\n",
       "    <tr style=\"text-align: right;\">\n",
       "      <th></th>\n",
       "      <th>name</th>\n",
       "      <th>grade</th>\n",
       "    </tr>\n",
       "  </thead>\n",
       "  <tbody>\n",
       "    <tr>\n",
       "      <th>0</th>\n",
       "      <td>John</td>\n",
       "      <td>90</td>\n",
       "    </tr>\n",
       "    <tr>\n",
       "      <th>1</th>\n",
       "      <td>Paul</td>\n",
       "      <td>80</td>\n",
       "    </tr>\n",
       "    <tr>\n",
       "      <th>2</th>\n",
       "      <td>George</td>\n",
       "      <td>70</td>\n",
       "    </tr>\n",
       "    <tr>\n",
       "      <th>3</th>\n",
       "      <td>Ringo</td>\n",
       "      <td>60</td>\n",
       "    </tr>\n",
       "  </tbody>\n",
       "</table>\n",
       "</div>"
      ]
     },
     "execution_count": 20,
     "metadata": {},
     "output_type": "execute_result"
    }
   ],
   "execution_count": 20
  },
  {
   "metadata": {
    "ExecuteTime": {
     "end_time": "2024-08-18T04:30:50.624009Z",
     "start_time": "2024-08-18T04:30:50.618260Z"
    }
   },
   "cell_type": "code",
   "source": [
    "a = [10, 20, 30]\n",
    "b = [10, 20, 30]\n",
    "c = [10, 20, 30]\n",
    "\n",
    "df3 = pd.DataFrame((a,b,c), columns=list('abc'))\n",
    "df3\n"
   ],
   "id": "debed8b5be39caf",
   "outputs": [
    {
     "data": {
      "text/plain": [
       "    a   b   c\n",
       "0  10  20  30\n",
       "1  10  20  30\n",
       "2  10  20  30"
      ],
      "text/html": [
       "<div>\n",
       "<style scoped>\n",
       "    .dataframe tbody tr th:only-of-type {\n",
       "        vertical-align: middle;\n",
       "    }\n",
       "\n",
       "    .dataframe tbody tr th {\n",
       "        vertical-align: top;\n",
       "    }\n",
       "\n",
       "    .dataframe thead th {\n",
       "        text-align: right;\n",
       "    }\n",
       "</style>\n",
       "<table border=\"1\" class=\"dataframe\">\n",
       "  <thead>\n",
       "    <tr style=\"text-align: right;\">\n",
       "      <th></th>\n",
       "      <th>a</th>\n",
       "      <th>b</th>\n",
       "      <th>c</th>\n",
       "    </tr>\n",
       "  </thead>\n",
       "  <tbody>\n",
       "    <tr>\n",
       "      <th>0</th>\n",
       "      <td>10</td>\n",
       "      <td>20</td>\n",
       "      <td>30</td>\n",
       "    </tr>\n",
       "    <tr>\n",
       "      <th>1</th>\n",
       "      <td>10</td>\n",
       "      <td>20</td>\n",
       "      <td>30</td>\n",
       "    </tr>\n",
       "    <tr>\n",
       "      <th>2</th>\n",
       "      <td>10</td>\n",
       "      <td>20</td>\n",
       "      <td>30</td>\n",
       "    </tr>\n",
       "  </tbody>\n",
       "</table>\n",
       "</div>"
      ]
     },
     "execution_count": 25,
     "metadata": {},
     "output_type": "execute_result"
    }
   ],
   "execution_count": 25
  },
  {
   "metadata": {},
   "cell_type": "markdown",
   "source": "mean, min std",
   "id": "158890f44a4a029b"
  },
  {
   "metadata": {
    "ExecuteTime": {
     "end_time": "2024-08-18T04:31:14.252742Z",
     "start_time": "2024-08-18T04:31:14.242132Z"
    }
   },
   "cell_type": "code",
   "source": "df3.describe()",
   "id": "f4dd36f4175f6301",
   "outputs": [
    {
     "data": {
      "text/plain": [
       "          a     b     c\n",
       "count   3.0   3.0   3.0\n",
       "mean   10.0  20.0  30.0\n",
       "std     0.0   0.0   0.0\n",
       "min    10.0  20.0  30.0\n",
       "25%    10.0  20.0  30.0\n",
       "50%    10.0  20.0  30.0\n",
       "75%    10.0  20.0  30.0\n",
       "max    10.0  20.0  30.0"
      ],
      "text/html": [
       "<div>\n",
       "<style scoped>\n",
       "    .dataframe tbody tr th:only-of-type {\n",
       "        vertical-align: middle;\n",
       "    }\n",
       "\n",
       "    .dataframe tbody tr th {\n",
       "        vertical-align: top;\n",
       "    }\n",
       "\n",
       "    .dataframe thead th {\n",
       "        text-align: right;\n",
       "    }\n",
       "</style>\n",
       "<table border=\"1\" class=\"dataframe\">\n",
       "  <thead>\n",
       "    <tr style=\"text-align: right;\">\n",
       "      <th></th>\n",
       "      <th>a</th>\n",
       "      <th>b</th>\n",
       "      <th>c</th>\n",
       "    </tr>\n",
       "  </thead>\n",
       "  <tbody>\n",
       "    <tr>\n",
       "      <th>count</th>\n",
       "      <td>3.0</td>\n",
       "      <td>3.0</td>\n",
       "      <td>3.0</td>\n",
       "    </tr>\n",
       "    <tr>\n",
       "      <th>mean</th>\n",
       "      <td>10.0</td>\n",
       "      <td>20.0</td>\n",
       "      <td>30.0</td>\n",
       "    </tr>\n",
       "    <tr>\n",
       "      <th>std</th>\n",
       "      <td>0.0</td>\n",
       "      <td>0.0</td>\n",
       "      <td>0.0</td>\n",
       "    </tr>\n",
       "    <tr>\n",
       "      <th>min</th>\n",
       "      <td>10.0</td>\n",
       "      <td>20.0</td>\n",
       "      <td>30.0</td>\n",
       "    </tr>\n",
       "    <tr>\n",
       "      <th>25%</th>\n",
       "      <td>10.0</td>\n",
       "      <td>20.0</td>\n",
       "      <td>30.0</td>\n",
       "    </tr>\n",
       "    <tr>\n",
       "      <th>50%</th>\n",
       "      <td>10.0</td>\n",
       "      <td>20.0</td>\n",
       "      <td>30.0</td>\n",
       "    </tr>\n",
       "    <tr>\n",
       "      <th>75%</th>\n",
       "      <td>10.0</td>\n",
       "      <td>20.0</td>\n",
       "      <td>30.0</td>\n",
       "    </tr>\n",
       "    <tr>\n",
       "      <th>max</th>\n",
       "      <td>10.0</td>\n",
       "      <td>20.0</td>\n",
       "      <td>30.0</td>\n",
       "    </tr>\n",
       "  </tbody>\n",
       "</table>\n",
       "</div>"
      ]
     },
     "execution_count": 26,
     "metadata": {},
     "output_type": "execute_result"
    }
   ],
   "execution_count": 26
  },
  {
   "metadata": {
    "ExecuteTime": {
     "end_time": "2024-08-18T04:32:14.738210Z",
     "start_time": "2024-08-18T04:32:14.728Z"
    }
   },
   "cell_type": "code",
   "source": [
    "# DataFrame.info() is a function of DataFrame that gives metadata of DataFrame\n",
    "df3.info()"
   ],
   "id": "92754b3b474df59d",
   "outputs": [
    {
     "name": "stdout",
     "output_type": "stream",
     "text": [
      "<class 'pandas.core.frame.DataFrame'>\n",
      "RangeIndex: 3 entries, 0 to 2\n",
      "Data columns (total 3 columns):\n",
      " #   Column  Non-Null Count  Dtype\n",
      "---  ------  --------------  -----\n",
      " 0   a       3 non-null      int64\n",
      " 1   b       3 non-null      int64\n",
      " 2   c       3 non-null      int64\n",
      "dtypes: int64(3)\n",
      "memory usage: 204.0 bytes\n"
     ]
    }
   ],
   "execution_count": 27
  },
  {
   "metadata": {
    "ExecuteTime": {
     "end_time": "2024-08-18T04:39:09.740816Z",
     "start_time": "2024-08-18T04:39:09.734472Z"
    }
   },
   "cell_type": "code",
   "source": [
    "# Working with Rows and Columns\n",
    "# We will create a dummy dataset from a random integer number using the NumPy package.\n",
    "import numpy as np\n",
    "\n",
    "np.random.seed(0)\n",
    "data = np.random.randint(0, 100, size=(5, 5)) # 5 rows and 5 columns\n",
    "\n",
    "# Create a DataFrame from the data\n",
    "df = pd.DataFrame(data, columns=list('abcde'))\n",
    "df"
   ],
   "id": "7a87385d68f142c3",
   "outputs": [
    {
     "data": {
      "text/plain": [
       "    a   b   c   d   e\n",
       "0  44  47  64  67  67\n",
       "1   9  83  21  36  87\n",
       "2  70  88  88  12  58\n",
       "3  65  39  87  46  88\n",
       "4  81  37  25  77  72"
      ],
      "text/html": [
       "<div>\n",
       "<style scoped>\n",
       "    .dataframe tbody tr th:only-of-type {\n",
       "        vertical-align: middle;\n",
       "    }\n",
       "\n",
       "    .dataframe tbody tr th {\n",
       "        vertical-align: top;\n",
       "    }\n",
       "\n",
       "    .dataframe thead th {\n",
       "        text-align: right;\n",
       "    }\n",
       "</style>\n",
       "<table border=\"1\" class=\"dataframe\">\n",
       "  <thead>\n",
       "    <tr style=\"text-align: right;\">\n",
       "      <th></th>\n",
       "      <th>a</th>\n",
       "      <th>b</th>\n",
       "      <th>c</th>\n",
       "      <th>d</th>\n",
       "      <th>e</th>\n",
       "    </tr>\n",
       "  </thead>\n",
       "  <tbody>\n",
       "    <tr>\n",
       "      <th>0</th>\n",
       "      <td>44</td>\n",
       "      <td>47</td>\n",
       "      <td>64</td>\n",
       "      <td>67</td>\n",
       "      <td>67</td>\n",
       "    </tr>\n",
       "    <tr>\n",
       "      <th>1</th>\n",
       "      <td>9</td>\n",
       "      <td>83</td>\n",
       "      <td>21</td>\n",
       "      <td>36</td>\n",
       "      <td>87</td>\n",
       "    </tr>\n",
       "    <tr>\n",
       "      <th>2</th>\n",
       "      <td>70</td>\n",
       "      <td>88</td>\n",
       "      <td>88</td>\n",
       "      <td>12</td>\n",
       "      <td>58</td>\n",
       "    </tr>\n",
       "    <tr>\n",
       "      <th>3</th>\n",
       "      <td>65</td>\n",
       "      <td>39</td>\n",
       "      <td>87</td>\n",
       "      <td>46</td>\n",
       "      <td>88</td>\n",
       "    </tr>\n",
       "    <tr>\n",
       "      <th>4</th>\n",
       "      <td>81</td>\n",
       "      <td>37</td>\n",
       "      <td>25</td>\n",
       "      <td>77</td>\n",
       "      <td>72</td>\n",
       "    </tr>\n",
       "  </tbody>\n",
       "</table>\n",
       "</div>"
      ]
     },
     "execution_count": 39,
     "metadata": {},
     "output_type": "execute_result"
    }
   ],
   "execution_count": 39
  },
  {
   "metadata": {
    "ExecuteTime": {
     "end_time": "2024-08-18T04:39:11.653624Z",
     "start_time": "2024-08-18T04:39:11.649942Z"
    }
   },
   "cell_type": "code",
   "source": [
    "print(df.index)\n",
    "print(df.columns)"
   ],
   "id": "bab061db0140f7eb",
   "outputs": [
    {
     "name": "stdout",
     "output_type": "stream",
     "text": [
      "RangeIndex(start=0, stop=5, step=1)\n",
      "Index(['a', 'b', 'c', 'd', 'e'], dtype='object')\n"
     ]
    }
   ],
   "execution_count": 40
  },
  {
   "metadata": {},
   "cell_type": "markdown",
   "source": "Drop data",
   "id": "ce5b8f9f90f47bb7"
  },
  {
   "metadata": {
    "ExecuteTime": {
     "end_time": "2024-08-18T04:39:14.093409Z",
     "start_time": "2024-08-18T04:39:14.086813Z"
    }
   },
   "cell_type": "code",
   "source": [
    "print('Original DataFrame')\n",
    "df"
   ],
   "id": "55e45b002ff24b1c",
   "outputs": [
    {
     "name": "stdout",
     "output_type": "stream",
     "text": [
      "Original DataFrame\n"
     ]
    },
    {
     "data": {
      "text/plain": [
       "    a   b   c   d   e\n",
       "0  44  47  64  67  67\n",
       "1   9  83  21  36  87\n",
       "2  70  88  88  12  58\n",
       "3  65  39  87  46  88\n",
       "4  81  37  25  77  72"
      ],
      "text/html": [
       "<div>\n",
       "<style scoped>\n",
       "    .dataframe tbody tr th:only-of-type {\n",
       "        vertical-align: middle;\n",
       "    }\n",
       "\n",
       "    .dataframe tbody tr th {\n",
       "        vertical-align: top;\n",
       "    }\n",
       "\n",
       "    .dataframe thead th {\n",
       "        text-align: right;\n",
       "    }\n",
       "</style>\n",
       "<table border=\"1\" class=\"dataframe\">\n",
       "  <thead>\n",
       "    <tr style=\"text-align: right;\">\n",
       "      <th></th>\n",
       "      <th>a</th>\n",
       "      <th>b</th>\n",
       "      <th>c</th>\n",
       "      <th>d</th>\n",
       "      <th>e</th>\n",
       "    </tr>\n",
       "  </thead>\n",
       "  <tbody>\n",
       "    <tr>\n",
       "      <th>0</th>\n",
       "      <td>44</td>\n",
       "      <td>47</td>\n",
       "      <td>64</td>\n",
       "      <td>67</td>\n",
       "      <td>67</td>\n",
       "    </tr>\n",
       "    <tr>\n",
       "      <th>1</th>\n",
       "      <td>9</td>\n",
       "      <td>83</td>\n",
       "      <td>21</td>\n",
       "      <td>36</td>\n",
       "      <td>87</td>\n",
       "    </tr>\n",
       "    <tr>\n",
       "      <th>2</th>\n",
       "      <td>70</td>\n",
       "      <td>88</td>\n",
       "      <td>88</td>\n",
       "      <td>12</td>\n",
       "      <td>58</td>\n",
       "    </tr>\n",
       "    <tr>\n",
       "      <th>3</th>\n",
       "      <td>65</td>\n",
       "      <td>39</td>\n",
       "      <td>87</td>\n",
       "      <td>46</td>\n",
       "      <td>88</td>\n",
       "    </tr>\n",
       "    <tr>\n",
       "      <th>4</th>\n",
       "      <td>81</td>\n",
       "      <td>37</td>\n",
       "      <td>25</td>\n",
       "      <td>77</td>\n",
       "      <td>72</td>\n",
       "    </tr>\n",
       "  </tbody>\n",
       "</table>\n",
       "</div>"
      ]
     },
     "execution_count": 41,
     "metadata": {},
     "output_type": "execute_result"
    }
   ],
   "execution_count": 41
  },
  {
   "metadata": {
    "ExecuteTime": {
     "end_time": "2024-08-18T04:39:16.468941Z",
     "start_time": "2024-08-18T04:39:16.461272Z"
    }
   },
   "cell_type": "code",
   "source": [
    "df.drop(index=[4], columns=['c', 'd'], inplace=True)\n",
    "print('DataFrame after dropping rows and columns')\n",
    "df"
   ],
   "id": "d7fc3f5e8710dea0",
   "outputs": [
    {
     "name": "stdout",
     "output_type": "stream",
     "text": [
      "DataFrame after dropping rows and columns\n"
     ]
    },
    {
     "data": {
      "text/plain": [
       "    a   b   e\n",
       "0  44  47  67\n",
       "1   9  83  87\n",
       "2  70  88  58\n",
       "3  65  39  88"
      ],
      "text/html": [
       "<div>\n",
       "<style scoped>\n",
       "    .dataframe tbody tr th:only-of-type {\n",
       "        vertical-align: middle;\n",
       "    }\n",
       "\n",
       "    .dataframe tbody tr th {\n",
       "        vertical-align: top;\n",
       "    }\n",
       "\n",
       "    .dataframe thead th {\n",
       "        text-align: right;\n",
       "    }\n",
       "</style>\n",
       "<table border=\"1\" class=\"dataframe\">\n",
       "  <thead>\n",
       "    <tr style=\"text-align: right;\">\n",
       "      <th></th>\n",
       "      <th>a</th>\n",
       "      <th>b</th>\n",
       "      <th>e</th>\n",
       "    </tr>\n",
       "  </thead>\n",
       "  <tbody>\n",
       "    <tr>\n",
       "      <th>0</th>\n",
       "      <td>44</td>\n",
       "      <td>47</td>\n",
       "      <td>67</td>\n",
       "    </tr>\n",
       "    <tr>\n",
       "      <th>1</th>\n",
       "      <td>9</td>\n",
       "      <td>83</td>\n",
       "      <td>87</td>\n",
       "    </tr>\n",
       "    <tr>\n",
       "      <th>2</th>\n",
       "      <td>70</td>\n",
       "      <td>88</td>\n",
       "      <td>58</td>\n",
       "    </tr>\n",
       "    <tr>\n",
       "      <th>3</th>\n",
       "      <td>65</td>\n",
       "      <td>39</td>\n",
       "      <td>88</td>\n",
       "    </tr>\n",
       "  </tbody>\n",
       "</table>\n",
       "</div>"
      ]
     },
     "execution_count": 42,
     "metadata": {},
     "output_type": "execute_result"
    }
   ],
   "execution_count": 42
  },
  {
   "metadata": {
    "ExecuteTime": {
     "end_time": "2024-08-18T04:39:31.034804Z",
     "start_time": "2024-08-18T04:39:31.026330Z"
    }
   },
   "cell_type": "code",
   "source": [
    "np.random.seed(0)\n",
    "data = np.random.randint(0, 100, size=(10, 4)) # 10 rows and 4 columns\n",
    "df = pd.DataFrame(data, columns=list('abcd'))\n",
    "df"
   ],
   "id": "e63768c74b7e20ef",
   "outputs": [
    {
     "data": {
      "text/plain": [
       "    a   b   c   d\n",
       "0  44  47  64  67\n",
       "1  67   9  83  21\n",
       "2  36  87  70  88\n",
       "3  88  12  58  65\n",
       "4  39  87  46  88\n",
       "5  81  37  25  77\n",
       "6  72   9  20  80\n",
       "7  69  79  47  64\n",
       "8  82  99  88  49\n",
       "9  29  19  19  14"
      ],
      "text/html": [
       "<div>\n",
       "<style scoped>\n",
       "    .dataframe tbody tr th:only-of-type {\n",
       "        vertical-align: middle;\n",
       "    }\n",
       "\n",
       "    .dataframe tbody tr th {\n",
       "        vertical-align: top;\n",
       "    }\n",
       "\n",
       "    .dataframe thead th {\n",
       "        text-align: right;\n",
       "    }\n",
       "</style>\n",
       "<table border=\"1\" class=\"dataframe\">\n",
       "  <thead>\n",
       "    <tr style=\"text-align: right;\">\n",
       "      <th></th>\n",
       "      <th>a</th>\n",
       "      <th>b</th>\n",
       "      <th>c</th>\n",
       "      <th>d</th>\n",
       "    </tr>\n",
       "  </thead>\n",
       "  <tbody>\n",
       "    <tr>\n",
       "      <th>0</th>\n",
       "      <td>44</td>\n",
       "      <td>47</td>\n",
       "      <td>64</td>\n",
       "      <td>67</td>\n",
       "    </tr>\n",
       "    <tr>\n",
       "      <th>1</th>\n",
       "      <td>67</td>\n",
       "      <td>9</td>\n",
       "      <td>83</td>\n",
       "      <td>21</td>\n",
       "    </tr>\n",
       "    <tr>\n",
       "      <th>2</th>\n",
       "      <td>36</td>\n",
       "      <td>87</td>\n",
       "      <td>70</td>\n",
       "      <td>88</td>\n",
       "    </tr>\n",
       "    <tr>\n",
       "      <th>3</th>\n",
       "      <td>88</td>\n",
       "      <td>12</td>\n",
       "      <td>58</td>\n",
       "      <td>65</td>\n",
       "    </tr>\n",
       "    <tr>\n",
       "      <th>4</th>\n",
       "      <td>39</td>\n",
       "      <td>87</td>\n",
       "      <td>46</td>\n",
       "      <td>88</td>\n",
       "    </tr>\n",
       "    <tr>\n",
       "      <th>5</th>\n",
       "      <td>81</td>\n",
       "      <td>37</td>\n",
       "      <td>25</td>\n",
       "      <td>77</td>\n",
       "    </tr>\n",
       "    <tr>\n",
       "      <th>6</th>\n",
       "      <td>72</td>\n",
       "      <td>9</td>\n",
       "      <td>20</td>\n",
       "      <td>80</td>\n",
       "    </tr>\n",
       "    <tr>\n",
       "      <th>7</th>\n",
       "      <td>69</td>\n",
       "      <td>79</td>\n",
       "      <td>47</td>\n",
       "      <td>64</td>\n",
       "    </tr>\n",
       "    <tr>\n",
       "      <th>8</th>\n",
       "      <td>82</td>\n",
       "      <td>99</td>\n",
       "      <td>88</td>\n",
       "      <td>49</td>\n",
       "    </tr>\n",
       "    <tr>\n",
       "      <th>9</th>\n",
       "      <td>29</td>\n",
       "      <td>19</td>\n",
       "      <td>19</td>\n",
       "      <td>14</td>\n",
       "    </tr>\n",
       "  </tbody>\n",
       "</table>\n",
       "</div>"
      ]
     },
     "execution_count": 43,
     "metadata": {},
     "output_type": "execute_result"
    }
   ],
   "execution_count": 43
  },
  {
   "metadata": {
    "ExecuteTime": {
     "end_time": "2024-08-18T04:39:37.804887Z",
     "start_time": "2024-08-18T04:39:37.800901Z"
    }
   },
   "cell_type": "code",
   "source": "df['a']",
   "id": "3cd55318554d460f",
   "outputs": [
    {
     "data": {
      "text/plain": [
       "0    44\n",
       "1    67\n",
       "2    36\n",
       "3    88\n",
       "4    39\n",
       "5    81\n",
       "6    72\n",
       "7    69\n",
       "8    82\n",
       "9    29\n",
       "Name: a, dtype: int32"
      ]
     },
     "execution_count": 44,
     "metadata": {},
     "output_type": "execute_result"
    }
   ],
   "execution_count": 44
  },
  {
   "metadata": {
    "ExecuteTime": {
     "end_time": "2024-08-18T04:39:44.316482Z",
     "start_time": "2024-08-18T04:39:44.310733Z"
    }
   },
   "cell_type": "code",
   "source": "df[['a', 'c']] # selecting multiple columns df[['column_name1', 'column_name2']]",
   "id": "ebe277c2cc72a86a",
   "outputs": [
    {
     "data": {
      "text/plain": [
       "    a   c\n",
       "0  44  64\n",
       "1  67  83\n",
       "2  36  70\n",
       "3  88  58\n",
       "4  39  46\n",
       "5  81  25\n",
       "6  72  20\n",
       "7  69  47\n",
       "8  82  88\n",
       "9  29  19"
      ],
      "text/html": [
       "<div>\n",
       "<style scoped>\n",
       "    .dataframe tbody tr th:only-of-type {\n",
       "        vertical-align: middle;\n",
       "    }\n",
       "\n",
       "    .dataframe tbody tr th {\n",
       "        vertical-align: top;\n",
       "    }\n",
       "\n",
       "    .dataframe thead th {\n",
       "        text-align: right;\n",
       "    }\n",
       "</style>\n",
       "<table border=\"1\" class=\"dataframe\">\n",
       "  <thead>\n",
       "    <tr style=\"text-align: right;\">\n",
       "      <th></th>\n",
       "      <th>a</th>\n",
       "      <th>c</th>\n",
       "    </tr>\n",
       "  </thead>\n",
       "  <tbody>\n",
       "    <tr>\n",
       "      <th>0</th>\n",
       "      <td>44</td>\n",
       "      <td>64</td>\n",
       "    </tr>\n",
       "    <tr>\n",
       "      <th>1</th>\n",
       "      <td>67</td>\n",
       "      <td>83</td>\n",
       "    </tr>\n",
       "    <tr>\n",
       "      <th>2</th>\n",
       "      <td>36</td>\n",
       "      <td>70</td>\n",
       "    </tr>\n",
       "    <tr>\n",
       "      <th>3</th>\n",
       "      <td>88</td>\n",
       "      <td>58</td>\n",
       "    </tr>\n",
       "    <tr>\n",
       "      <th>4</th>\n",
       "      <td>39</td>\n",
       "      <td>46</td>\n",
       "    </tr>\n",
       "    <tr>\n",
       "      <th>5</th>\n",
       "      <td>81</td>\n",
       "      <td>25</td>\n",
       "    </tr>\n",
       "    <tr>\n",
       "      <th>6</th>\n",
       "      <td>72</td>\n",
       "      <td>20</td>\n",
       "    </tr>\n",
       "    <tr>\n",
       "      <th>7</th>\n",
       "      <td>69</td>\n",
       "      <td>47</td>\n",
       "    </tr>\n",
       "    <tr>\n",
       "      <th>8</th>\n",
       "      <td>82</td>\n",
       "      <td>88</td>\n",
       "    </tr>\n",
       "    <tr>\n",
       "      <th>9</th>\n",
       "      <td>29</td>\n",
       "      <td>19</td>\n",
       "    </tr>\n",
       "  </tbody>\n",
       "</table>\n",
       "</div>"
      ]
     },
     "execution_count": 45,
     "metadata": {},
     "output_type": "execute_result"
    }
   ],
   "execution_count": 45
  },
  {
   "metadata": {
    "ExecuteTime": {
     "end_time": "2024-08-18T04:39:51.311167Z",
     "start_time": "2024-08-18T04:39:51.306762Z"
    }
   },
   "cell_type": "code",
   "source": "df.iloc[1]",
   "id": "2363ccdb18e45ccd",
   "outputs": [
    {
     "data": {
      "text/plain": [
       "a    67\n",
       "b     9\n",
       "c    83\n",
       "d    21\n",
       "Name: 1, dtype: int32"
      ]
     },
     "execution_count": 46,
     "metadata": {},
     "output_type": "execute_result"
    }
   ],
   "execution_count": 46
  },
  {
   "metadata": {
    "ExecuteTime": {
     "end_time": "2024-08-18T04:44:28.194721Z",
     "start_time": "2024-08-18T04:44:28.189091Z"
    }
   },
   "cell_type": "code",
   "source": "df.iloc[1:8] # selecting slice of rows",
   "id": "d88244953a67694f",
   "outputs": [
    {
     "data": {
      "text/plain": [
       "    a   b   c   d\n",
       "1  67   9  83  21\n",
       "2  36  87  70  88\n",
       "3  88  12  58  65\n",
       "4  39  87  46  88\n",
       "5  81  37  25  77\n",
       "6  72   9  20  80\n",
       "7  69  79  47  64"
      ],
      "text/html": [
       "<div>\n",
       "<style scoped>\n",
       "    .dataframe tbody tr th:only-of-type {\n",
       "        vertical-align: middle;\n",
       "    }\n",
       "\n",
       "    .dataframe tbody tr th {\n",
       "        vertical-align: top;\n",
       "    }\n",
       "\n",
       "    .dataframe thead th {\n",
       "        text-align: right;\n",
       "    }\n",
       "</style>\n",
       "<table border=\"1\" class=\"dataframe\">\n",
       "  <thead>\n",
       "    <tr style=\"text-align: right;\">\n",
       "      <th></th>\n",
       "      <th>a</th>\n",
       "      <th>b</th>\n",
       "      <th>c</th>\n",
       "      <th>d</th>\n",
       "    </tr>\n",
       "  </thead>\n",
       "  <tbody>\n",
       "    <tr>\n",
       "      <th>1</th>\n",
       "      <td>67</td>\n",
       "      <td>9</td>\n",
       "      <td>83</td>\n",
       "      <td>21</td>\n",
       "    </tr>\n",
       "    <tr>\n",
       "      <th>2</th>\n",
       "      <td>36</td>\n",
       "      <td>87</td>\n",
       "      <td>70</td>\n",
       "      <td>88</td>\n",
       "    </tr>\n",
       "    <tr>\n",
       "      <th>3</th>\n",
       "      <td>88</td>\n",
       "      <td>12</td>\n",
       "      <td>58</td>\n",
       "      <td>65</td>\n",
       "    </tr>\n",
       "    <tr>\n",
       "      <th>4</th>\n",
       "      <td>39</td>\n",
       "      <td>87</td>\n",
       "      <td>46</td>\n",
       "      <td>88</td>\n",
       "    </tr>\n",
       "    <tr>\n",
       "      <th>5</th>\n",
       "      <td>81</td>\n",
       "      <td>37</td>\n",
       "      <td>25</td>\n",
       "      <td>77</td>\n",
       "    </tr>\n",
       "    <tr>\n",
       "      <th>6</th>\n",
       "      <td>72</td>\n",
       "      <td>9</td>\n",
       "      <td>20</td>\n",
       "      <td>80</td>\n",
       "    </tr>\n",
       "    <tr>\n",
       "      <th>7</th>\n",
       "      <td>69</td>\n",
       "      <td>79</td>\n",
       "      <td>47</td>\n",
       "      <td>64</td>\n",
       "    </tr>\n",
       "  </tbody>\n",
       "</table>\n",
       "</div>"
      ]
     },
     "execution_count": 47,
     "metadata": {},
     "output_type": "execute_result"
    }
   ],
   "execution_count": 47
  },
  {
   "metadata": {
    "ExecuteTime": {
     "end_time": "2024-08-18T04:44:34.748804Z",
     "start_time": "2024-08-18T04:44:34.742134Z"
    }
   },
   "cell_type": "code",
   "source": [
    "# Select rows where column 'a' is greater than 50\n",
    "df[df['a'] > 50] # selecting rows by boolean vector"
   ],
   "id": "db916cc05c22f54",
   "outputs": [
    {
     "data": {
      "text/plain": [
       "    a   b   c   d\n",
       "1  67   9  83  21\n",
       "3  88  12  58  65\n",
       "5  81  37  25  77\n",
       "6  72   9  20  80\n",
       "7  69  79  47  64\n",
       "8  82  99  88  49"
      ],
      "text/html": [
       "<div>\n",
       "<style scoped>\n",
       "    .dataframe tbody tr th:only-of-type {\n",
       "        vertical-align: middle;\n",
       "    }\n",
       "\n",
       "    .dataframe tbody tr th {\n",
       "        vertical-align: top;\n",
       "    }\n",
       "\n",
       "    .dataframe thead th {\n",
       "        text-align: right;\n",
       "    }\n",
       "</style>\n",
       "<table border=\"1\" class=\"dataframe\">\n",
       "  <thead>\n",
       "    <tr style=\"text-align: right;\">\n",
       "      <th></th>\n",
       "      <th>a</th>\n",
       "      <th>b</th>\n",
       "      <th>c</th>\n",
       "      <th>d</th>\n",
       "    </tr>\n",
       "  </thead>\n",
       "  <tbody>\n",
       "    <tr>\n",
       "      <th>1</th>\n",
       "      <td>67</td>\n",
       "      <td>9</td>\n",
       "      <td>83</td>\n",
       "      <td>21</td>\n",
       "    </tr>\n",
       "    <tr>\n",
       "      <th>3</th>\n",
       "      <td>88</td>\n",
       "      <td>12</td>\n",
       "      <td>58</td>\n",
       "      <td>65</td>\n",
       "    </tr>\n",
       "    <tr>\n",
       "      <th>5</th>\n",
       "      <td>81</td>\n",
       "      <td>37</td>\n",
       "      <td>25</td>\n",
       "      <td>77</td>\n",
       "    </tr>\n",
       "    <tr>\n",
       "      <th>6</th>\n",
       "      <td>72</td>\n",
       "      <td>9</td>\n",
       "      <td>20</td>\n",
       "      <td>80</td>\n",
       "    </tr>\n",
       "    <tr>\n",
       "      <th>7</th>\n",
       "      <td>69</td>\n",
       "      <td>79</td>\n",
       "      <td>47</td>\n",
       "      <td>64</td>\n",
       "    </tr>\n",
       "    <tr>\n",
       "      <th>8</th>\n",
       "      <td>82</td>\n",
       "      <td>99</td>\n",
       "      <td>88</td>\n",
       "      <td>49</td>\n",
       "    </tr>\n",
       "  </tbody>\n",
       "</table>\n",
       "</div>"
      ]
     },
     "execution_count": 48,
     "metadata": {},
     "output_type": "execute_result"
    }
   ],
   "execution_count": 48
  },
  {
   "metadata": {
    "ExecuteTime": {
     "end_time": "2024-08-18T04:44:40.310041Z",
     "start_time": "2024-08-18T04:44:40.303919Z"
    }
   },
   "cell_type": "code",
   "source": [
    "# Select rows where column 'a' is greater than 50 and column 'b' is greater than 50\n",
    "df[(df['a'] > 50) & (df['b'] > 50)]"
   ],
   "id": "ebc1f0952260ff01",
   "outputs": [
    {
     "data": {
      "text/plain": [
       "    a   b   c   d\n",
       "7  69  79  47  64\n",
       "8  82  99  88  49"
      ],
      "text/html": [
       "<div>\n",
       "<style scoped>\n",
       "    .dataframe tbody tr th:only-of-type {\n",
       "        vertical-align: middle;\n",
       "    }\n",
       "\n",
       "    .dataframe tbody tr th {\n",
       "        vertical-align: top;\n",
       "    }\n",
       "\n",
       "    .dataframe thead th {\n",
       "        text-align: right;\n",
       "    }\n",
       "</style>\n",
       "<table border=\"1\" class=\"dataframe\">\n",
       "  <thead>\n",
       "    <tr style=\"text-align: right;\">\n",
       "      <th></th>\n",
       "      <th>a</th>\n",
       "      <th>b</th>\n",
       "      <th>c</th>\n",
       "      <th>d</th>\n",
       "    </tr>\n",
       "  </thead>\n",
       "  <tbody>\n",
       "    <tr>\n",
       "      <th>7</th>\n",
       "      <td>69</td>\n",
       "      <td>79</td>\n",
       "      <td>47</td>\n",
       "      <td>64</td>\n",
       "    </tr>\n",
       "    <tr>\n",
       "      <th>8</th>\n",
       "      <td>82</td>\n",
       "      <td>99</td>\n",
       "      <td>88</td>\n",
       "      <td>49</td>\n",
       "    </tr>\n",
       "  </tbody>\n",
       "</table>\n",
       "</div>"
      ]
     },
     "execution_count": 49,
     "metadata": {},
     "output_type": "execute_result"
    }
   ],
   "execution_count": 49
  },
  {
   "metadata": {},
   "cell_type": "code",
   "outputs": [],
   "execution_count": null,
   "source": "",
   "id": "4a92872546f23f3"
  }
 ],
 "metadata": {
  "kernelspec": {
   "display_name": "Python 3",
   "language": "python",
   "name": "python3"
  },
  "language_info": {
   "codemirror_mode": {
    "name": "ipython",
    "version": 2
   },
   "file_extension": ".py",
   "mimetype": "text/x-python",
   "name": "python",
   "nbconvert_exporter": "python",
   "pygments_lexer": "ipython2",
   "version": "2.7.6"
  }
 },
 "nbformat": 4,
 "nbformat_minor": 5
}
