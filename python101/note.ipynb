{
 "cells": [
  {
   "metadata": {
    "ExecuteTime": {
     "end_time": "2024-08-18T06:50:53.525518Z",
     "start_time": "2024-08-18T06:50:46.015798Z"
    }
   },
   "cell_type": "code",
   "source": [
    "name = input(\"Enter your name: \")\n",
    "print(\"Your name \" + name)\n",
    "\n",
    "x = int(input(\"Enter X: \"))\n",
    "y = int(input(\"Enter Y: \"))\n",
    "print(x + y)"
   ],
   "outputs": [
    {
     "name": "stdout",
     "output_type": "stream",
     "text": [
      "Your name view\n",
      "9\n"
     ]
    }
   ],
   "execution_count": 11
  },
  {
   "cell_type": "code",
   "execution_count": 2,
   "metadata": {},
   "outputs": [
    {
     "name": "stdout",
     "output_type": "stream",
     "text": [
      "a and b are not equal\n"
     ]
    }
   ],
   "source": [
    "# Python supports the usual logical conditions from mathematics:\n",
    "a = 100  # assigning value 100 to variable a\n",
    "b = 200  # assigning value 200 to variable b\n",
    "\n",
    "if a == b:  # checking if a is equal to b\n",
    "    print('a and b are equal')  # this line will execute if the condition is true\n",
    "else:\n",
    "    print(\"a and b are not equal\")  # this line will execute if the condition is false"
   ]
  },
  {
   "cell_type": "code",
   "execution_count": 3,
   "metadata": {},
   "outputs": [],
   "source": [
    "# why this sector is error\n",
    "a = 50\n",
    "b = 100\n",
    "if a > b:\n",
    "    print('a is greater than b') # Error, Why?"
   ]
  },
  {
   "cell_type": "code",
   "execution_count": 4,
   "metadata": {},
   "outputs": [
    {
     "name": "stdout",
     "output_type": "stream",
     "text": [
      "a is greater than b\n"
     ]
    }
   ],
   "source": [
    "# elif \n",
    "a = 33\n",
    "b = 31\n",
    "\n",
    "if a > b:\n",
    "    print('a is greater than b')\n",
    "elif a < b:\n",
    "    print('a is less than b')\n",
    "else:\n",
    "    print('a and b are equal')"
   ]
  },
  {
   "cell_type": "code",
   "execution_count": 5,
   "metadata": {},
   "outputs": [
    {
     "name": "stdout",
     "output_type": "stream",
     "text": [
      "a is the least\n"
     ]
    }
   ],
   "source": [
    "# and condition\n",
    "a = 100\n",
    "b = 200\n",
    "c = 300\n",
    "\n",
    "if a < b and a < c:\n",
    "    print('a is the least')\n",
    "else:\n",
    "    print('a is not the least')"
   ]
  },
  {
   "cell_type": "code",
   "execution_count": 6,
   "metadata": {
    "ExecuteTime": {
     "end_time": "2024-08-17T06:58:35.624647Z",
     "start_time": "2024-08-17T06:58:35.620945Z"
    }
   },
   "outputs": [],
   "source": [
    "a = 33\n",
    "b = 200\n",
    "if not a < b or a > b:\n",
    "    print(\"a is NOT greater than b\")"
   ]
  },
  {
   "cell_type": "code",
   "execution_count": 7,
   "metadata": {
    "ExecuteTime": {
     "end_time": "2024-08-17T07:20:40.254981Z",
     "start_time": "2024-08-17T07:20:40.251277Z"
    }
   },
   "outputs": [
    {
     "name": "stdout",
     "output_type": "stream",
     "text": [
      "['never', 'gonna', 'give', 'you', 'up']\n",
      "give\n"
     ]
    }
   ],
   "source": [
    "wordlist = ['never', 'gonna', 'give', 'you', 'up']\n",
    "print(wordlist)\n",
    "# Print the third item of the list \n",
    "print(wordlist[2]) # Note: The first item has index 0."
   ]
  },
  {
   "cell_type": "code",
   "execution_count": 8,
   "metadata": {
    "ExecuteTime": {
     "end_time": "2024-08-17T07:20:59.106344Z",
     "start_time": "2024-08-17T07:20:59.102156Z"
    }
   },
   "outputs": [
    {
     "name": "stdout",
     "output_type": "stream",
     "text": [
      "['Cherry', 'Date', 'Elderberry']\n",
      "['Grapes', 'Elderberry']\n",
      "['Banana', 'Cherry', 'Date', 'Elderberry', 'Fig', 'Grapes', 'Elderberry', 'Honeydew', 'Kiwi', 'Lemon']\n"
     ]
    }
   ],
   "source": [
    "# Range of Indexes \n",
    "# specify a range of indexes by specifying where to start and where to end the range\n",
    "fruits = [\"Apple\", \"Banana\", \"Cherry\", \"Date\", \"Elderberry\", \"Fig\", \"Grapes\", \"Elderberry\", \"Honeydew\", \"Kiwi\", \"Lemon\"]\n",
    "# print(fruits)\n",
    "print(fruits[2:5])\n",
    "print(fruits[-5: -3])\n",
    "print(fruits[1:])"
   ]
  },
  {
   "cell_type": "code",
   "execution_count": 9,
   "metadata": {
    "ExecuteTime": {
     "end_time": "2024-08-17T07:21:11.046204Z",
     "start_time": "2024-08-17T07:21:11.040418Z"
    }
   },
   "outputs": [
    {
     "name": "stdout",
     "output_type": "stream",
     "text": [
      "append =>  ['Apple', 'Banana', 'Cherry', 'Date', 'Elderberry', 'Fig', 'Grapes', 'Elderberry', 'Honeydew', 'Kiwi', 'Lemon', 'Blueberry']\n"
     ]
    }
   ],
   "source": [
    "# Adding item to the end of the list\n",
    "fruits.append('Blueberry')\n",
    "print('append => ', fruits)"
   ]
  },
  {
   "cell_type": "code",
   "execution_count": 10,
   "metadata": {
    "ExecuteTime": {
     "end_time": "2024-08-17T07:29:44.310951Z",
     "start_time": "2024-08-17T07:29:44.307693Z"
    }
   },
   "outputs": [
    {
     "name": "stdout",
     "output_type": "stream",
     "text": [
      "insert =>  ['Grape', 'Apple', 'Banana', 'Cherry', 'Date', 'Elderberry', 'Fig', 'Grapes', 'Elderberry', 'Honeydew', 'Kiwi', 'Lemon', 'Blueberry']\n"
     ]
    }
   ],
   "source": [
    "# Insert a list item at a specified index\n",
    "fruits.insert(0, 'Grape')\n",
    "print('insert => ', fruits)"
   ]
  },
  {
   "cell_type": "code",
   "execution_count": 11,
   "metadata": {
    "ExecuteTime": {
     "end_time": "2024-08-17T07:29:59.685059Z",
     "start_time": "2024-08-17T07:29:59.681273Z"
    }
   },
   "outputs": [
    {
     "name": "stdout",
     "output_type": "stream",
     "text": [
      "remove =>  ['Grape', 'Apple', 'Banana', 'Cherry', 'Date', 'Fig', 'Grapes', 'Elderberry', 'Honeydew', 'Kiwi', 'Lemon', 'Blueberry']\n"
     ]
    }
   ],
   "source": [
    "# Remove List Items\n",
    "# Tips: If there are more than one item with the specified value, the remove() method removes the first occurrence:\n",
    "fruits.remove('Elderberry')\n",
    "print('remove => ', fruits)"
   ]
  },
  {
   "cell_type": "code",
   "execution_count": 12,
   "metadata": {
    "ExecuteTime": {
     "end_time": "2024-08-17T07:30:09.257258Z",
     "start_time": "2024-08-17T07:30:09.253679Z"
    }
   },
   "outputs": [
    {
     "name": "stdout",
     "output_type": "stream",
     "text": [
      "pop =>  ['Grape', 'Banana', 'Cherry', 'Date', 'Fig', 'Grapes', 'Elderberry', 'Honeydew', 'Kiwi', 'Lemon', 'Blueberry']\n"
     ]
    }
   ],
   "source": [
    "fruits.pop(1)\n",
    "print('pop => ', fruits)"
   ]
  },
  {
   "cell_type": "code",
   "execution_count": 13,
   "metadata": {
    "ExecuteTime": {
     "end_time": "2024-08-17T07:30:18.889824Z",
     "start_time": "2024-08-17T07:30:18.885330Z"
    }
   },
   "outputs": [
    {
     "name": "stdout",
     "output_type": "stream",
     "text": [
      "[]\n"
     ]
    }
   ],
   "source": [
    "# Clear all the items in the list\n",
    "fruits.clear()\n",
    "print(fruits)"
   ]
  },
  {
   "metadata": {},
   "cell_type": "markdown",
   "source": "workshop"
  },
  {
   "cell_type": "code",
   "metadata": {
    "ExecuteTime": {
     "end_time": "2024-08-17T07:56:10.667348Z",
     "start_time": "2024-08-17T07:56:04.431218Z"
    }
   },
   "source": [
    "def gpax():\n",
    "    while True:\n",
    "        x = input(\"score is: \")\n",
    "        if x.lower() == \"end\":\n",
    "            break\n",
    "        \n",
    "        try:\n",
    "            score = float(x)\n",
    "        except ValueError:\n",
    "            print(\"Not in the range 0-100\")\n",
    "            continue\n",
    "\n",
    "        if score >= 80:\n",
    "            grade = \"A\"\n",
    "        elif 70 <= score < 80:\n",
    "            grade = \"B\"\n",
    "        elif 60 <= score < 70:\n",
    "            grade = \"C\"\n",
    "        elif 50 <= score < 60:\n",
    "            grade = \"D\"\n",
    "        else:\n",
    "            grade = \"F\"\n",
    "        \n",
    "        print(f\"Score: {score}, Grade: {grade}\")\n",
    "\n",
    "gpax()\n"
   ],
   "outputs": [
    {
     "name": "stdout",
     "output_type": "stream",
     "text": [
      "Score: 65.0, Grade: C\n",
      "Score: 78.0, Grade: B\n"
     ]
    }
   ],
   "execution_count": 2
  },
  {
   "cell_type": "code",
   "execution_count": null,
   "metadata": {},
   "outputs": [],
   "source": []
  },
  {
   "metadata": {
    "ExecuteTime": {
     "end_time": "2024-08-18T02:48:00.286635Z",
     "start_time": "2024-08-18T02:48:00.282692Z"
    }
   },
   "cell_type": "code",
   "source": [
    "# looping through a String\n",
    "for x in \"Elderberry\":\n",
    "    print(x)"
   ],
   "outputs": [
    {
     "name": "stdout",
     "output_type": "stream",
     "text": [
      "E\n",
      "l\n",
      "d\n",
      "e\n",
      "r\n",
      "b\n",
      "e\n",
      "r\n",
      "r\n",
      "y\n"
     ]
    }
   ],
   "execution_count": 1
  },
  {
   "metadata": {
    "ExecuteTime": {
     "end_time": "2024-08-18T02:48:26.193274Z",
     "start_time": "2024-08-18T02:48:26.189785Z"
    }
   },
   "cell_type": "code",
   "source": [
    "# Range\n",
    "# To loop through a set of code a specified number of times, we can use the range() function,\n",
    "\n",
    "for x in range(10):\n",
    "    print(x)"
   ],
   "outputs": [
    {
     "name": "stdout",
     "output_type": "stream",
     "text": [
      "0\n",
      "1\n",
      "2\n",
      "3\n",
      "4\n",
      "5\n",
      "6\n",
      "7\n",
      "8\n",
      "9\n"
     ]
    }
   ],
   "execution_count": 3
  },
  {
   "metadata": {
    "ExecuteTime": {
     "end_time": "2024-08-18T02:48:37.408474Z",
     "start_time": "2024-08-18T02:48:37.405159Z"
    }
   },
   "cell_type": "code",
   "source": [
    "for x in range(3, 10):\n",
    "    print(x)"
   ],
   "outputs": [
    {
     "name": "stdout",
     "output_type": "stream",
     "text": [
      "3\n",
      "4\n",
      "5\n",
      "6\n",
      "7\n",
      "8\n",
      "9\n"
     ]
    }
   ],
   "execution_count": 4
  },
  {
   "metadata": {
    "ExecuteTime": {
     "end_time": "2024-08-18T02:48:47.434113Z",
     "start_time": "2024-08-18T02:48:47.431094Z"
    }
   },
   "cell_type": "code",
   "source": [
    "# A function is a block of code which only runs when it is called.\n",
    "def HelloFunction():\n",
    "    print('Hello from function :)')\n",
    "\n",
    "# Calling a function\n",
    "HelloFunction()"
   ],
   "outputs": [
    {
     "name": "stdout",
     "output_type": "stream",
     "text": [
      "Hello from function :)\n"
     ]
    }
   ],
   "execution_count": 5
  },
  {
   "metadata": {
    "ExecuteTime": {
     "end_time": "2024-08-18T02:48:55.044210Z",
     "start_time": "2024-08-18T02:48:55.041117Z"
    }
   },
   "cell_type": "code",
   "source": [
    "# Arguments \n",
    "# Information can be passed into functions as arguments.  \n",
    "# You can add as many arguments as you want, just separate them with a comma.\n",
    "def FirstFunction(first_name):\n",
    "    print(f'Hello {first_name} from the function :)')"
   ],
   "outputs": [],
   "execution_count": 6
  },
  {
   "metadata": {
    "ExecuteTime": {
     "end_time": "2024-08-18T02:49:04.063535Z",
     "start_time": "2024-08-18T02:49:04.059909Z"
    }
   },
   "cell_type": "code",
   "source": [
    "# Calling a function with arguments\n",
    "FirstFunction('little john')"
   ],
   "outputs": [
    {
     "name": "stdout",
     "output_type": "stream",
     "text": [
      "Hello little john from the function :)\n"
     ]
    }
   ],
   "execution_count": 7
  },
  {
   "metadata": {
    "ExecuteTime": {
     "end_time": "2024-08-18T02:49:33.891940Z",
     "start_time": "2024-08-18T02:49:33.887656Z"
    }
   },
   "cell_type": "code",
   "source": [
    "# Return Values Function\n",
    "def ExampleSumFunction(x, y):\n",
    "    return x + y\n",
    "\n",
    "\n",
    "print(ExampleSumFunction(10, 20))\n",
    "\n",
    "sum_result = ExampleSumFunction(10, 20)\n",
    "print(sum_result)"
   ],
   "outputs": [
    {
     "name": "stdout",
     "output_type": "stream",
     "text": [
      "30\n",
      "30\n"
     ]
    }
   ],
   "execution_count": 8
  },
  {
   "metadata": {
    "ExecuteTime": {
     "end_time": "2024-08-18T02:49:48.422672Z",
     "start_time": "2024-08-18T02:49:48.417221Z"
    }
   },
   "cell_type": "code",
   "source": [
    "# Why print('Hello') is not executed ?\n",
    "def MinusFunction(x, y):\n",
    "    return x - y\n",
    "    print('Hello')\n",
    "    \n",
    "MinusFunction(5, 4)"
   ],
   "outputs": [
    {
     "data": {
      "text/plain": [
       "1"
      ]
     },
     "execution_count": 9,
     "metadata": {},
     "output_type": "execute_result"
    }
   ],
   "execution_count": 9
  },
  {
   "metadata": {
    "ExecuteTime": {
     "end_time": "2024-08-18T02:49:57.644484Z",
     "start_time": "2024-08-18T02:49:57.641120Z"
    }
   },
   "cell_type": "code",
   "source": [
    "# Arbitrary Arguments, *args\n",
    "def AverageFunction(*x):\n",
    "    if not x:\n",
    "        return \"No numbers provided\"\n",
    "    else:\n",
    "        return sum(x) / len(x)\n",
    "    \n",
    "\n",
    "print(AverageFunction(1, 2, 3, 4, 5, 6, 7, 8, 9, 10))\n",
    "print(AverageFunction())"
   ],
   "outputs": [
    {
     "name": "stdout",
     "output_type": "stream",
     "text": [
      "5.5\n",
      "No numbers provided\n"
     ]
    }
   ],
   "execution_count": 10
  },
  {
   "metadata": {},
   "cell_type": "code",
   "outputs": [],
   "execution_count": null,
   "source": ""
  }
 ],
 "metadata": {
  "kernelspec": {
   "display_name": "Python 3",
   "language": "python",
   "name": "python3"
  },
  "language_info": {
   "codemirror_mode": {
    "name": "ipython",
    "version": 3
   },
   "file_extension": ".py",
   "mimetype": "text/x-python",
   "name": "python",
   "nbconvert_exporter": "python",
   "pygments_lexer": "ipython3",
   "version": "3.12.4"
  }
 },
 "nbformat": 4,
 "nbformat_minor": 2
}
