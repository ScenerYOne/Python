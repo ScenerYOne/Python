{
  "nbformat": 4,
  "nbformat_minor": 0,
  "metadata": {
    "colab": {
      "provenance": [],
      "authorship_tag": "ABX9TyMbkIIKyzQx+mTWNvxGwz1Z",
      "include_colab_link": true
    },
    "kernelspec": {
      "name": "python3",
      "display_name": "Python 3"
    },
    "language_info": {
      "name": "python"
    }
  },
  "cells": [
    {
      "cell_type": "markdown",
      "metadata": {
        "id": "view-in-github",
        "colab_type": "text"
      },
      "source": [
        "<a href=\"https://colab.research.google.com/github/ScenerYOne/Python/blob/main/workshop3.ipynb\" target=\"_parent\"><img src=\"https://colab.research.google.com/assets/colab-badge.svg\" alt=\"Open In Colab\"/></a>"
      ]
    },
    {
      "cell_type": "code",
      "execution_count": 1,
      "metadata": {
        "id": "isC5m_OeVJQu"
      },
      "outputs": [],
      "source": [
        "import numpy as np\n",
        "from tensorflow.keras import Sequential\n",
        "from tensorflow.keras.layers import MaxPool2D, AveragePooling2D"
      ]
    },
    {
      "cell_type": "code",
      "source": [
        "image = np.array([[2,3,4,2],\n",
        "                          [8,5,5,1],\n",
        "                          [6,7,9,4],\n",
        "                          [3,1,4,5]])"
      ],
      "metadata": {
        "id": "IKHczhDBWstE"
      },
      "execution_count": 2,
      "outputs": []
    },
    {
      "cell_type": "code",
      "source": [
        "arr = image.reshape(1, 4, 4, 1)"
      ],
      "metadata": {
        "id": "L0IFN6OQW9WG"
      },
      "execution_count": 3,
      "outputs": []
    },
    {
      "cell_type": "code",
      "source": [
        "model = Sequential()"
      ],
      "metadata": {
        "id": "BI7MnlfYXKxT"
      },
      "execution_count": 4,
      "outputs": []
    },
    {
      "cell_type": "code",
      "source": [
        "model.add(MaxPool2D(pool_size=(2,2)))"
      ],
      "metadata": {
        "id": "WAxa27pNXP9H"
      },
      "execution_count": 5,
      "outputs": []
    },
    {
      "cell_type": "code",
      "source": [
        "output = model.predict(arr)"
      ],
      "metadata": {
        "colab": {
          "base_uri": "https://localhost:8080/"
        },
        "id": "WpidxAH4XW0U",
        "outputId": "52f831fe-e712-4f00-a93c-91897ec2be0d"
      },
      "execution_count": 6,
      "outputs": [
        {
          "output_type": "stream",
          "name": "stdout",
          "text": [
            "1/1 [==============================] - 0s 122ms/step\n"
          ]
        }
      ]
    },
    {
      "cell_type": "code",
      "source": [
        "output = np.squeeze(output)"
      ],
      "metadata": {
        "id": "flkRRhNNXdc9"
      },
      "execution_count": 7,
      "outputs": []
    },
    {
      "cell_type": "code",
      "source": [
        "image = np.array([[2,3,4,2],\n",
        "                          [8,5,5,1],\n",
        "                          [6,7,9,4],\n",
        "                          [3,1,4,5]])"
      ],
      "metadata": {
        "id": "mwIHKiHIXkBZ"
      },
      "execution_count": 8,
      "outputs": []
    },
    {
      "cell_type": "code",
      "source": [
        "arr = image.reshape(1,4,4,1).astype('float32')"
      ],
      "metadata": {
        "id": "z25RccmpX2KE"
      },
      "execution_count": 14,
      "outputs": []
    },
    {
      "cell_type": "code",
      "source": [
        "model = Sequential()"
      ],
      "metadata": {
        "id": "JL1qRgm4YAuj"
      },
      "execution_count": 17,
      "outputs": []
    },
    {
      "cell_type": "code",
      "source": [
        "model.add(AveragePooling2D(pool_size=(2,  2)))"
      ],
      "metadata": {
        "id": "cL_-vOlcYGGs"
      },
      "execution_count": 18,
      "outputs": []
    },
    {
      "cell_type": "code",
      "source": [
        "output = model.predict(arr)"
      ],
      "metadata": {
        "colab": {
          "base_uri": "https://localhost:8080/"
        },
        "id": "fVl92YkdZCr_",
        "outputId": "f03d1f23-3f54-4944-c1e3-d04a5ceee131"
      },
      "execution_count": 19,
      "outputs": [
        {
          "output_type": "stream",
          "name": "stdout",
          "text": [
            "1/1 [==============================] - 0s 73ms/step\n"
          ]
        }
      ]
    },
    {
      "cell_type": "code",
      "source": [
        "output = np.squeeze(output)"
      ],
      "metadata": {
        "id": "E1ICcQ52ZFhM"
      },
      "execution_count": 20,
      "outputs": []
    },
    {
      "cell_type": "code",
      "source": [
        "print(output)"
      ],
      "metadata": {
        "colab": {
          "base_uri": "https://localhost:8080/"
        },
        "id": "AjsvfunpZIVq",
        "outputId": "1b50633c-c55f-4dcb-d587-befb217172bb"
      },
      "execution_count": 21,
      "outputs": [
        {
          "output_type": "stream",
          "name": "stdout",
          "text": [
            "[[4.5  3.  ]\n",
            " [4.25 5.5 ]]\n"
          ]
        }
      ]
    }
  ]
}