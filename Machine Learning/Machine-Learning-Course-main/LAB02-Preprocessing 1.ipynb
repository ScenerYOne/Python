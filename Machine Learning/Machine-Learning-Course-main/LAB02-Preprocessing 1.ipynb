{
 "cells": [
  {
   "cell_type": "markdown",
   "source": [
    "Series can be created from Python dict, arrays, or scalar values (like 1, 2, 3, etc.). \n",
    "To create a series, we can use the .Series() function."
   ],
   "metadata": {
    "collapsed": false
   },
   "id": "c5c860bef11a54a1"
  },
  {
   "cell_type": "code",
   "source": [
    "import pandas as pd\n",
    "\n",
    "# creating series\n",
    "s1 = pd.Series([\"apple\", \"banana\", \"lemon\", \"mango\"])\n",
    "\n",
    "# creating series from a dict\n",
    "s2 = pd.Series({\"A\": 1, \"B\": 2, \"C\": 3, \"D\": 4})\n",
    "\n",
    "# .Series() has index and name parameters that we can customize as needed.\n",
    "s3 = pd.Series([1, 2, 3, 4, 5], index=[\"A\", \"B\", \"C\", \"D\", \"E\"], name=\"simple series\")\n",
    "\n",
    "print(s1, '\\n')\n",
    "print(s2, '\\n')\n",
    "print(s3)"
   ],
   "metadata": {
    "collapsed": false,
    "ExecuteTime": {
     "end_time": "2024-06-19T09:47:19.448939Z",
     "start_time": "2024-06-19T09:47:19.356430Z"
    }
   },
   "id": "f90e586603d68c29",
   "outputs": [
    {
     "name": "stdout",
     "output_type": "stream",
     "text": [
      "0     apple\n",
      "1    banana\n",
      "2     lemon\n",
      "3     mango\n",
      "dtype: object \n",
      "\n",
      "A    1\n",
      "B    2\n",
      "C    3\n",
      "D    4\n",
      "dtype: int64 \n",
      "\n",
      "A    1\n",
      "B    2\n",
      "C    3\n",
      "D    4\n",
      "E    5\n",
      "Name: simple series, dtype: int64\n"
     ]
    }
   ],
   "execution_count": 2
  },
  {
   "cell_type": "markdown",
   "source": [
    "DataFrame can be created from a Python dictionary, list, 2D array, object series, etc. Create using the .DataFrame() function."
   ],
   "metadata": {
    "collapsed": false
   },
   "id": "26426daf87171721"
  },
  {
   "cell_type": "code",
   "source": [
    "import pandas as pd\n",
    "\n",
    "# creating an empty DataFrame object and then add columns and rows\n",
    "df1 = pd.DataFrame()\n",
    "df1[\"Name\"] = [\"Takashi\", \"Jason\", \"Nakamura\", \"Olivia\"]\n",
    "df1[\"Grade\"] = [100, 90, 70, 80]\n",
    "\n",
    "# creating from a dictionary\n",
    "dictionary = {\"Name\": [\"Takashi\", \"Jason\", \"Nakamura\", \"Olivia\"], \"Grade\": [100, 90, 70, 80]}\n",
    "df2 = pd.DataFrame(dictionary)\n",
    "\n",
    "# creating from a list, in which we then specify the column names\n",
    "a = [90, 100, 95]\n",
    "b = [81, 89, 85]\n",
    "c = [75, 70, 77]\n",
    "df3 = pd.DataFrame([a,b,c], columns=list(\"ABC\"))\n",
    "\n",
    "# creating from csv\n",
    "df4 = pd.read_csv(\"data/prep-data01.csv\")\n",
    "print(df4.describe(), '\\n')\n",
    "print(df4.describe(include=\"all\"), '\\n')\n",
    "print(df4.info())"
   ],
   "metadata": {
    "collapsed": false,
    "ExecuteTime": {
     "end_time": "2024-06-19T09:48:12.156831Z",
     "start_time": "2024-06-19T09:48:11.946607Z"
    }
   },
   "id": "2a64df27254e0e30",
   "outputs": [
    {
     "name": "stdout",
     "output_type": "stream",
     "text": [
      "            Age      Marks\n",
      "count  39.00000  39.000000\n",
      "mean   22.74359  86.589744\n",
      "std     2.56205   4.660686\n",
      "min    19.00000  78.000000\n",
      "25%    21.00000  83.500000\n",
      "50%    22.00000  87.000000\n",
      "75%    24.00000  90.500000\n",
      "max    31.00000  94.000000 \n",
      "\n",
      "            Name       Age  Gender             Major      Marks\n",
      "count         39  39.00000      39                39  39.000000\n",
      "unique        39       NaN       2                20        NaN\n",
      "top     John Doe       NaN  Female  Computer Science        NaN\n",
      "freq           1       NaN      20                 3        NaN\n",
      "mean         NaN  22.74359     NaN               NaN  86.589744\n",
      "std          NaN   2.56205     NaN               NaN   4.660686\n",
      "min          NaN  19.00000     NaN               NaN  78.000000\n",
      "25%          NaN  21.00000     NaN               NaN  83.500000\n",
      "50%          NaN  22.00000     NaN               NaN  87.000000\n",
      "75%          NaN  24.00000     NaN               NaN  90.500000\n",
      "max          NaN  31.00000     NaN               NaN  94.000000 \n",
      "\n",
      "<class 'pandas.core.frame.DataFrame'>\n",
      "RangeIndex: 39 entries, 0 to 38\n",
      "Data columns (total 5 columns):\n",
      " #   Column  Non-Null Count  Dtype \n",
      "---  ------  --------------  ----- \n",
      " 0   Name    39 non-null     object\n",
      " 1   Age     39 non-null     int64 \n",
      " 2   Gender  39 non-null     object\n",
      " 3   Major   39 non-null     object\n",
      " 4   Marks   39 non-null     int64 \n",
      "dtypes: int64(2), object(3)\n",
      "memory usage: 1.7+ KB\n",
      "None\n"
     ]
    }
   ],
   "execution_count": 4
  },
  {
   "cell_type": "markdown",
   "source": [
    "# Working with Rows and Columns\n",
    "We will create a dummy dataset from a random integer number using the NumPy package. "
   ],
   "metadata": {
    "collapsed": false
   },
   "id": "35bc097512149c80"
  },
  {
   "cell_type": "code",
   "source": [
    "import pandas as pd\n",
    "import numpy as np\n",
    "\n",
    "np.random.seed(1)\n",
    "data = np.random.randint(0, 20, size=(5, 4)) # 5 rows and 4 columns\n",
    "df = pd.DataFrame(data, columns=list(\"ABCD\"))\n",
    "print(df, '\\n')\n",
    "\n",
    "# get brief information\n",
    "print(df.index, '\\n')\n",
    "print(df.columns, '\\n')\n",
    "\n",
    "# copy df and drop columns C and D\n",
    "dfDrop = df.copy()\n",
    "dfDrop.drop(columns=[\"C\", \"D\"], inplace=True)\n",
    "print(dfDrop, '\\n')\n",
    "\n",
    "# copy df and add new column E with numpy random\n",
    "dfAdd = df.copy()\n",
    "dfAdd[\"E\"] = np.random.randint(0, 20, size=(5, 1))\n",
    "print(dfAdd)\n"
   ],
   "metadata": {
    "collapsed": false,
    "ExecuteTime": {
     "end_time": "2024-06-19T09:48:18.368155Z",
     "start_time": "2024-06-19T09:48:18.344770Z"
    }
   },
   "id": "c492cc7b339b82d7",
   "outputs": [
    {
     "name": "stdout",
     "output_type": "stream",
     "text": [
      "   A   B   C   D\n",
      "0  5  11  12   8\n",
      "1  9  11   5  15\n",
      "2  0  16   1  12\n",
      "3  7  13   6  18\n",
      "4  5  18  11  10 \n",
      "\n",
      "RangeIndex(start=0, stop=5, step=1) \n",
      "\n",
      "Index(['A', 'B', 'C', 'D'], dtype='object') \n",
      "\n",
      "   A   B\n",
      "0  5  11\n",
      "1  9  11\n",
      "2  0  16\n",
      "3  7  13\n",
      "4  5  18 \n",
      "\n",
      "   A   B   C   D   E\n",
      "0  5  11  12   8  14\n",
      "1  9  11   5  15  18\n",
      "2  0  16   1  12   4\n",
      "3  7  13   6  18   9\n",
      "4  5  18  11  10  17\n"
     ]
    }
   ],
   "execution_count": 5
  },
  {
   "cell_type": "code",
   "source": [
    "import pandas as pd\n",
    "import numpy as np\n",
    "np.random.seed(1)\n",
    "data = np.random.randint(0, 20, size=(5, 4)) # 5 rows and 4 columns\n",
    "df = pd.DataFrame(data, columns=list(\"ABCD\"))\n",
    "\n",
    "print('df')\n",
    "print(df, '\\n')\n",
    "\n",
    "print('df[\\'A\\']')\n",
    "print(df['A'], '\\n')\n",
    "\n",
    "print('df.loc[0]')\n",
    "print(df.loc[0], '\\n') # label = 0 (label can be string)\n",
    "\n",
    "print('df.iloc[0]')\n",
    "print(df.iloc[0], '\\n') \n",
    "\n",
    "print('df[0:2]')\n",
    "print(df[0:2], '\\n')\n",
    "\n",
    "print('df[\\'A\\'] > 5')\n",
    "print(df['A'] > 5, '\\n')"
   ],
   "metadata": {
    "collapsed": false,
    "ExecuteTime": {
     "end_time": "2024-06-19T09:49:16.960874Z",
     "start_time": "2024-06-19T09:49:16.811271Z"
    }
   },
   "id": "e675254102b77ba1",
   "outputs": [
    {
     "name": "stdout",
     "output_type": "stream",
     "text": [
      "df\n",
      "   A   B   C   D\n",
      "0  5  11  12   8\n",
      "1  9  11   5  15\n",
      "2  0  16   1  12\n",
      "3  7  13   6  18\n",
      "4  5  18  11  10 \n",
      "\n",
      "df['A']\n",
      "0    5\n",
      "1    9\n",
      "2    0\n",
      "3    7\n",
      "4    5\n",
      "Name: A, dtype: int32 \n",
      "\n",
      "df.loc[0]\n",
      "A     5\n",
      "B    11\n",
      "C    12\n",
      "D     8\n",
      "Name: 0, dtype: int32 \n",
      "\n",
      "df.iloc[0]\n",
      "A     5\n",
      "B    11\n",
      "C    12\n",
      "D     8\n",
      "Name: 0, dtype: int32 \n",
      "\n",
      "df[0:2]\n",
      "   A   B   C   D\n",
      "0  5  11  12   8\n",
      "1  9  11   5  15 \n",
      "\n",
      "df['A'] > 5\n",
      "0    False\n",
      "1     True\n",
      "2    False\n",
      "3     True\n",
      "4    False\n",
      "Name: A, dtype: bool \n",
      "\n"
     ]
    }
   ],
   "execution_count": 7
  },
  {
   "cell_type": "markdown",
   "source": [
    "# Splitting Data"
   ],
   "metadata": {
    "collapsed": false
   },
   "id": "57f5faba6be235ca"
  },
  {
   "cell_type": "code",
   "outputs": [
    {
     "name": "stdout",
     "output_type": "stream",
     "text": [
      "   A   B   C   D\n",
      "0  5  11  12   8\n",
      "1  9  11   5  15\n",
      "2  0  16   1  12\n",
      "3  7  13   6  18\n",
      "4  5  18  11  10 \n",
      "\n",
      "   A   B   C   D\n",
      "0  5  11  12   8\n",
      "1  9  11   5  15 \n",
      "\n",
      "   A   B   C   D\n",
      "2  0  16   1  12\n",
      "3  7  13   6  18\n",
      "4  5  18  11  10 \n",
      "\n",
      "   A   B\n",
      "0  5  11\n",
      "1  9  11\n",
      "2  0  16\n",
      "3  7  13\n",
      "4  5  18 \n",
      "\n",
      "    C   D\n",
      "0  12   8\n",
      "1   5  15\n",
      "2   1  12\n",
      "3   6  18\n",
      "4  11  10 \n",
      "\n",
      "   A   B   C   D\n",
      "0  5  11  12   8\n",
      "4  5  18  11  10 \n",
      "\n",
      "   A   B   C   D\n",
      "3  7  13   6  18\n",
      "0  5  11  12   8 \n",
      "\n",
      "   A   B   C   D\n",
      "0  5  11  12   8\n",
      "2  0  16   1  12 \n"
     ]
    }
   ],
   "source": [
    "import pandas as pd\n",
    "import numpy as np\n",
    "np.random.seed(1)\n",
    "data = np.random.randint(0, 20, size=(5, 4)) # 5 rows and 4 columns\n",
    "df = pd.DataFrame(data, columns=list(\"ABCD\"))\n",
    "print('df')\n",
    "print(df, '\\n')\n",
    "\n",
    "# .iloc[row index, column index], : means all\n",
    "df1 = df.iloc[:2 , :] # :2 means splitting rows from index 0 to 2\n",
    "print('df1: df.iloc[:2 , :]')\n",
    "print(df1, '\\n')\n",
    "\n",
    "df2 = df.iloc[2: , :] # 2: means splitting rows from index 3 to n\n",
    "print('df2: df.iloc[2: , :]')\n",
    "print(df2, '\\n')\n",
    "\n",
    "# .iloc[row index, column index], : means all\n",
    "df3 = df.iloc[: , :2] # :2 means splitting columns from index 0 to 2\n",
    "print('df3: df.iloc[: , :2]')\n",
    "print(df3, '\\n')\n",
    "\n",
    "df4 = df.iloc[: , 2:] # 2: means splitting columns from index 3 to n\n",
    "print('df4: df.iloc[: , 2:]')\n",
    "print(df4, '\\n')\n",
    "\n",
    "# .groupby() function is used to split the DataFrame based on some values \n",
    "grouped = df.groupby(df.A)\n",
    "# we can select specified groups using the get_group() function\n",
    "df5 = grouped.get_group(5)\n",
    "print('df5: grouped.get_group(5)')\n",
    "print(df5, '\\n')\n",
    "\n",
    "# n: int value, Number of random rows to generate.\n",
    "df6 = df.sample(n = 2)\n",
    "print('df6: df.sample(n = 2)')\n",
    "print(df6, '\\n')\n",
    "\n",
    "# frac: Float value, Returns (float value * length of data frame values ). frac cannot be used with n. \n",
    "df7 = df.sample(frac = 0.5)\n",
    "print('df7: df.sample(frac = 0.5)')\n",
    "print(df7, '\\n')\n"
   ],
   "metadata": {
    "collapsed": false,
    "ExecuteTime": {
     "end_time": "2024-05-03T03:58:54.295934Z",
     "start_time": "2024-05-03T03:58:54.153398Z"
    }
   },
   "id": "3f12953d25f19e86",
   "execution_count": 7
  },
  {
   "cell_type": "markdown",
   "source": [
    "# Merge Data\n",
    "1. Concatenating Data"
   ],
   "metadata": {
    "collapsed": false
   },
   "id": "7d8b106229f9ec43"
  },
  {
   "cell_type": "code",
   "source": [
    "import pandas as pd\n",
    "\n",
    "left = pd.DataFrame({\"A\": [\"A0\", \"A1\", \"A2\"], \"B\": [\"B0\", \"B1\", \"B2\"]}, index=[\"K0\", \"K1\", \"K2\"])\n",
    "right = pd.DataFrame({\"C\": [\"C0\", \"C2\", \"C3\"], \"D\": [\"D0\", \"D2\", \"D3\"]}, index=[\"K0\", \"K2\", \"K3\"])\n",
    "\n",
    "print('left')\n",
    "print(left, '\\n')\n",
    "\n",
    "print('right')\n",
    "print(right, '\\n')\n",
    "\n",
    "df1 = pd.concat([left, right])\n",
    "\n",
    "# axis=0 to concat along rows, axis=1 to concat along columns.\n",
    "df2 = pd.concat([left, right], axis=0)\n",
    "df3 = pd.concat([left, right], axis=1)\n",
    "\n",
    "print('df1: pd.concat([left, right]')\n",
    "print(df1, '\\n')\n",
    "\n",
    "print('df2: pd.concat([left, right], axis=0)')\n",
    "print(df2, '\\n') \n",
    "\n",
    "print('df3: pd.concat([left, right], axis=1)')\n",
    "print(df3, '\\n')"
   ],
   "metadata": {
    "collapsed": false,
    "ExecuteTime": {
     "end_time": "2024-06-19T09:46:18.080181Z",
     "start_time": "2024-06-19T09:46:18.037727Z"
    }
   },
   "id": "a98444e924599c1e",
   "outputs": [
    {
     "name": "stdout",
     "output_type": "stream",
     "text": [
      "     A   B\n",
      "K0  A0  B0\n",
      "K1  A1  B1\n",
      "K2  A2  B2 \n",
      "\n",
      "     C   D\n",
      "K0  C0  D0\n",
      "K2  C2  D2\n",
      "K3  C3  D3 \n",
      "\n",
      "      A    B    C    D\n",
      "K0   A0   B0  NaN  NaN\n",
      "K1   A1   B1  NaN  NaN\n",
      "K2   A2   B2  NaN  NaN\n",
      "K0  NaN  NaN   C0   D0\n",
      "K2  NaN  NaN   C2   D2\n",
      "K3  NaN  NaN   C3   D3 \n",
      "\n",
      "      A    B    C    D\n",
      "K0   A0   B0  NaN  NaN\n",
      "K1   A1   B1  NaN  NaN\n",
      "K2   A2   B2  NaN  NaN\n",
      "K0  NaN  NaN   C0   D0\n",
      "K2  NaN  NaN   C2   D2\n",
      "K3  NaN  NaN   C3   D3 \n",
      "\n",
      "      A    B    C    D\n",
      "K0   A0   B0   C0   D0\n",
      "K1   A1   B1  NaN  NaN\n",
      "K2   A2   B2   C2   D2\n",
      "K3  NaN  NaN   C3   D3 \n",
      "\n"
     ]
    }
   ],
   "execution_count": 1
  },
  {
   "cell_type": "markdown",
   "source": [
    "2. Merging Data\n",
    "2.1 merge using index"
   ],
   "metadata": {
    "collapsed": false
   },
   "id": "27115d39c7a67157"
  },
  {
   "cell_type": "code",
   "outputs": [
    {
     "name": "stdout",
     "output_type": "stream",
     "text": [
      "    Courses    Fee\n",
      "r1    Spark  20000\n",
      "r2  PySpark  25000\n",
      "r3   Python  22000\n",
      "r4   pandas  24000 \n",
      "\n",
      "   Duration  Discount\n",
      "r1    30day      1000\n",
      "r2   40days      2300\n",
      "r3   35days      2500\n",
      "r5   60days      2000\n",
      "r6   55days      3000 \n",
      "\n",
      "    Courses    Fee Duration  Discount\n",
      "r1    Spark  20000    30day      1000\n",
      "r2  PySpark  25000   40days      2300\n",
      "r3   Python  22000   35days      2500 \n"
     ]
    }
   ],
   "source": [
    "import pandas as pd\n",
    "\n",
    "df1 = pd.DataFrame({'Courses': [\"Spark\", \"PySpark\", \"Python\", \"pandas\"],\n",
    "                    'Fee': [20000, 25000, 22000, 24000]},\n",
    "                    index=['r1', 'r2', 'r3', 'r4'])\n",
    "\n",
    "df2 = pd.DataFrame({'Duration': ['30day', '40days', '35days', '60days', '55days'],\n",
    "                    'Discount': [1000, 2300, 2500, 2000, 3000]},\n",
    "                    index=['r1', 'r2', 'r3', 'r5', 'r6'])\n",
    "\n",
    "# Merge two DataFrames by index using pandas.merge()\n",
    "df3 = pd.merge(df1, df2, left_index=True, right_index=True)\n",
    "\n",
    "print('df1')\n",
    "print(df1, '\\n')\n",
    "\n",
    "print('df2')\n",
    "print(df2, '\\n') \n",
    "\n",
    "print('df3: pd.merge(df1, df2, left_index=True, right_index=True)')\n",
    "print(df3, '\\n')"
   ],
   "metadata": {
    "collapsed": false,
    "ExecuteTime": {
     "end_time": "2024-05-03T05:23:25.547718Z",
     "start_time": "2024-05-03T05:23:25.452477Z"
    }
   },
   "id": "2b746abd8173b337",
   "execution_count": 15
  },
  {
   "cell_type": "markdown",
   "source": [
    "2.2 merge using column name"
   ],
   "metadata": {
    "collapsed": false
   },
   "id": "b6990e960aa94f2f"
  },
  {
   "cell_type": "code",
   "outputs": [
    {
     "name": "stdout",
     "output_type": "stream",
     "text": [
      "    Courses    Fee   Name\n",
      "r1    Spark  20000   John\n",
      "r2  PySpark  25000  James\n",
      "r3   Python  22000  Peter\n",
      "r4   pandas  24000  David \n",
      "\n",
      "   Duration  Discount    Name\n",
      "r1    30day      1000    John\n",
      "r2   40days      2300   Billy\n",
      "r3   35days      2500  Marcus\n",
      "r5   60days      2000   James\n",
      "r6   55days      3000   David \n",
      "\n",
      "   Courses    Fee   Name Duration  Discount\n",
      "0    Spark  20000   John    30day      1000\n",
      "1  PySpark  25000  James   60days      2000\n",
      "2   pandas  24000  David   55days      3000 \n"
     ]
    }
   ],
   "source": [
    "import pandas as pd\n",
    "\n",
    "df1 = pd.DataFrame({'Courses': [\"Spark\", \"PySpark\", \"Python\", \"pandas\"],\n",
    "                    'Fee': [20000, 25000, 22000, 24000],\n",
    "                    'Name': [\"John\", \"James\", \"Peter\", \"David\"]},\n",
    "                    index=['r1', 'r2', 'r3', 'r4'])\n",
    "\n",
    "df2 = pd.DataFrame({'Duration': ['30day', '40days', '35days', '60days', '55days'],\n",
    "                    'Discount': [1000, 2300, 2500, 2000, 3000],\n",
    "                    'Name': [\"John\", \"Billy\", \"Marcus\", \"James\", \"David\"]},\n",
    "                    index=['r1', 'r2', 'r3', 'r5', 'r6'])\n",
    "\n",
    "# Merge two DataFrames by column using pandas.merge()\n",
    "df3 = pd.merge(df1, df2, on=\"Name\")\n",
    "\n",
    "print('df1')\n",
    "print(df1, '\\n')\n",
    "\n",
    "print('df2')\n",
    "print(df2, '\\n') \n",
    "\n",
    "print('df3: pd.merge(df1, df2, on=\"Name\")')\n",
    "print(df3, '\\n')"
   ],
   "metadata": {
    "collapsed": false,
    "ExecuteTime": {
     "end_time": "2024-05-03T05:36:13.337763Z",
     "start_time": "2024-05-03T05:36:13.136077Z"
    }
   },
   "id": "7de75ce1fe5fa91c",
   "execution_count": 16
  },
  {
   "cell_type": "markdown",
   "source": [
    "3. Joining Data"
   ],
   "metadata": {
    "collapsed": false
   },
   "id": "39dfca602de13033"
  },
  {
   "cell_type": "code",
   "outputs": [
    {
     "name": "stdout",
     "output_type": "stream",
     "text": [
      "     A   B\n",
      "K0  A0  B0\n",
      "K1  A1  B1\n",
      "K2  A2  B2 \n",
      "\n",
      "     C   D\n",
      "K0  C0  D0\n",
      "K2  C2  D2\n",
      "K3  C3  D3 \n",
      "\n",
      "     A   B    C    D\n",
      "K0  A0  B0   C0   D0\n",
      "K1  A1  B1  NaN  NaN\n",
      "K2  A2  B2   C2   D2 \n",
      "\n",
      "     C   D    A    B\n",
      "K0  C0  D0   A0   B0\n",
      "K2  C2  D2   A2   B2\n",
      "K3  C3  D3  NaN  NaN \n",
      "\n",
      "     A   B   C   D\n",
      "K0  A0  B0  C0  D0\n",
      "K2  A2  B2  C2  D2 \n",
      "\n",
      "      A    B    C    D\n",
      "K0   A0   B0   C0   D0\n",
      "K1   A1   B1  NaN  NaN\n",
      "K2   A2   B2   C2   D2\n",
      "K3  NaN  NaN   C3   D3 \n"
     ]
    }
   ],
   "source": [
    "import pandas as pd\n",
    "\n",
    "df1 = pd.DataFrame({\"A\": [\"A0\", \"A1\", \"A2\"], \"B\": [\"B0\", \"B1\", \"B2\"]}, \n",
    "                    index=[\"K0\", \"K1\", \"K2\"])\n",
    "\n",
    "df2 = pd.DataFrame({\"C\": [\"C0\", \"C2\", \"C3\"], \"D\": [\"D0\", \"D2\", \"D3\"]}, \n",
    "                     index=[\"K0\", \"K2\", \"K3\"])\n",
    "\n",
    "df3 = df1.join(df2)\n",
    "df4 = df2.join(df1)\n",
    "\n",
    "resultInner = df1.join(df2, how=\"inner\")\n",
    "resultOuter = df1.join(df2, how=\"outer\")\n",
    "\n",
    "print('df1')\n",
    "print(df1, '\\n')\n",
    "\n",
    "print('df2')\n",
    "print(df2, '\\n')\n",
    "\n",
    "print('df3: df1.join(df2)')\n",
    "print(df3, '\\n')\n",
    "\n",
    "print('df4: df2.join(df1)')\n",
    "print(df4, '\\n')\n",
    "\n",
    "print('resultInner: df1.join(df2, how=\"inner\")')\n",
    "print(resultInner, '\\n')\n",
    "\n",
    "print('resultOuter: df1.join(df2, how=\"outer\")')\n",
    "print(resultOuter, '\\n')"
   ],
   "metadata": {
    "collapsed": false,
    "ExecuteTime": {
     "end_time": "2024-05-03T05:51:18.545617Z",
     "start_time": "2024-05-03T05:51:18.409519Z"
    }
   },
   "id": "99b8fa68caa302c5",
   "execution_count": 18
  },
  {
   "cell_type": "markdown",
   "source": [
    "# Missing Values Handling"
   ],
   "metadata": {
    "collapsed": false
   },
   "id": "f0426c1134d208fa"
  },
  {
   "cell_type": "code",
   "outputs": [
    {
     "name": "stdout",
     "output_type": "stream",
     "text": [
      "        Timestamp  Temperature  Humidity  Airflow Weather Condition\n",
      "0   5/1/2023 0:00         22.5      65.0      1.2             Clear\n",
      "1   5/1/2023 3:00          NaN      70.0      0.8     Partly Cloudy\n",
      "2   5/1/2023 6:00         19.2      75.0      NaN            Cloudy\n",
      "3   5/1/2023 9:00         24.1      60.0      2.1             Sunny\n",
      "4  5/1/2023 12:00         27.8      55.0      NaN             Sunny \n",
      "\n",
      "Timestamp             object\n",
      "Temperature          float64\n",
      "Humidity             float64\n",
      "Airflow              float64\n",
      "Weather Condition     object\n",
      "dtype: object \n",
      "\n",
      "            Timestamp  Temperature   Humidity    Airflow Weather Condition\n",
      "count              67    62.000000  64.000000  63.000000                67\n",
      "unique             37          NaN        NaN        NaN                 5\n",
      "top     5/1/2023 0:00          NaN        NaN        NaN     Partly Cloudy\n",
      "freq                2          NaN        NaN        NaN                23\n",
      "mean              NaN    22.432258  67.078125   1.826984               NaN\n",
      "std               NaN     3.375018   8.794487   0.981475               NaN\n",
      "min               NaN    16.500000  50.000000   0.500000               NaN\n",
      "25%               NaN    19.900000  60.000000   1.000000               NaN\n",
      "50%               NaN    22.000000  67.500000   1.600000               NaN\n",
      "75%               NaN    24.700000  74.250000   2.450000               NaN\n",
      "max               NaN    29.500000  82.000000   3.800000               NaN \n",
      "\n",
      "<class 'pandas.core.frame.DataFrame'>\n",
      "RangeIndex: 67 entries, 0 to 66\n",
      "Data columns (total 5 columns):\n",
      " #   Column             Non-Null Count  Dtype  \n",
      "---  ------             --------------  -----  \n",
      " 0   Timestamp          67 non-null     object \n",
      " 1   Temperature        62 non-null     float64\n",
      " 2   Humidity           64 non-null     float64\n",
      " 3   Airflow            63 non-null     float64\n",
      " 4   Weather Condition  67 non-null     object \n",
      "dtypes: float64(3), object(2)\n",
      "memory usage: 2.7+ KB\n",
      "None \n",
      "\n",
      "Timestamp            0\n",
      "Temperature          5\n",
      "Humidity             3\n",
      "Airflow              4\n",
      "Weather Condition    0\n",
      "dtype: int64 \n",
      "\n",
      "            Timestamp  Temperature   Humidity    Airflow Weather Condition\n",
      "count              55    55.000000  55.000000  55.000000                55\n",
      "unique             36          NaN        NaN        NaN                 5\n",
      "top     5/1/2023 0:00          NaN        NaN        NaN     Partly Cloudy\n",
      "freq                2          NaN        NaN        NaN                19\n",
      "mean              NaN    22.172727  67.490909   1.792727               NaN\n",
      "std               NaN     3.316650   8.841972   0.969699               NaN\n",
      "min               NaN    16.500000  50.000000   0.500000               NaN\n",
      "25%               NaN    19.800000  61.000000   1.000000               NaN\n",
      "50%               NaN    21.900000  68.000000   1.500000               NaN\n",
      "75%               NaN    24.150000  74.500000   2.450000               NaN\n",
      "max               NaN    29.500000  82.000000   3.800000               NaN \n",
      "\n",
      "            Timestamp  Temperature   Humidity    Airflow Weather Condition\n",
      "count              67    67.000000  67.000000  67.000000                67\n",
      "unique             37          NaN        NaN        NaN                 5\n",
      "top     5/1/2023 0:00          NaN        NaN        NaN     Partly Cloudy\n",
      "freq                2          NaN        NaN        NaN                23\n",
      "mean              NaN    22.432258  67.078125   1.813433               NaN\n",
      "std               NaN     3.244659   8.592288   0.952810               NaN\n",
      "min               NaN    16.500000  50.000000   0.500000               NaN\n",
      "25%               NaN    20.200000  60.000000   1.000000               NaN\n",
      "50%               NaN    22.400000  67.078125   1.600000               NaN\n",
      "75%               NaN    24.450000  74.000000   2.400000               NaN\n",
      "max               NaN    29.500000  82.000000   3.800000               NaN \n",
      "\n",
      "        Timestamp  Temperature  Humidity  Airflow Weather Condition\n",
      "0   5/1/2023 0:00         22.5      65.0      1.2             Clear\n",
      "1   5/1/2023 3:00         22.5      70.0      0.8     Partly Cloudy\n",
      "2   5/1/2023 6:00         19.2      75.0      0.8            Cloudy\n",
      "3   5/1/2023 9:00         24.1      60.0      2.1             Sunny\n",
      "4  5/1/2023 12:00         27.8      55.0      2.1             Sunny \n",
      "\n",
      "        Timestamp  Temperature  Humidity  Airflow Weather Condition\n",
      "0   5/1/2023 0:00         22.5      65.0      1.2             Clear\n",
      "1   5/1/2023 3:00         19.2      70.0      0.8     Partly Cloudy\n",
      "2   5/1/2023 6:00         19.2      75.0      2.1            Cloudy\n",
      "3   5/1/2023 9:00         24.1      60.0      2.1             Sunny\n",
      "4  5/1/2023 12:00         27.8      55.0      3.2             Sunny \n"
     ]
    }
   ],
   "source": [
    "import pandas as pd\n",
    "\n",
    "# 1. Load the dataset\n",
    "df = pd.read_csv(\"data/prep-data02.csv\")\n",
    "print(df.head(), '\\n')\n",
    "\n",
    "# # 2. Check the datatype for each column\n",
    "print(df.dtypes, '\\n')\n",
    "\n",
    "# 3. Data Summary\n",
    "print(df.describe(include='all').to_string(), '\\n')\n",
    "\n",
    "# 4. Finding the missing values\n",
    "# # 4.1 Check for missing data in any of the variables.\n",
    "print(df.info(), '\\n')\n",
    "\n",
    "# # 4.2 Finding the missing values in each column\n",
    "print(df.isnull().sum(), '\\n')\n",
    "\n",
    "# 5. Handling Missing Values\n",
    "# # 5.1 Drop missing values\n",
    "datadrop = df.dropna()\n",
    "print(datadrop.describe(include='all').to_string(), '\\n')\n",
    "\n",
    "# # 5.2 Fill missing values with Mean/Meidan/Mode\n",
    "# for numerical data (mean/median)\n",
    "df1 = df.copy()\n",
    "df1.fillna({'Temperature': df.Temperature.mean()}, inplace=True)\n",
    "df1.fillna({'Humidity': df.Humidity.mean()}, inplace=True)\n",
    "df1.fillna({'Airflow': df.Airflow.median()}, inplace=True)\n",
    "\n",
    "# for categorical data (mode)\n",
    "df1.fillna({'Weather Condition': df['Weather Condition'].mode()[0]}, inplace=True)\n",
    "\n",
    "print(df1.describe(include='all').to_string(), '\\n')\n",
    "\n",
    "# # 5.3 Fill missing values with Forward Fill/Backward Fill\n",
    "df2 = df.copy()\n",
    "df2.ffill(inplace=True)\n",
    "\n",
    "df3 = df.copy()\n",
    "df3.bfill(inplace=True)\n",
    "\n",
    "print(df2.head(), '\\n')\n",
    "print(df3.head(), '\\n')"
   ],
   "metadata": {
    "collapsed": false,
    "ExecuteTime": {
     "end_time": "2024-05-05T04:30:25.120015Z",
     "start_time": "2024-05-05T04:30:23.848678Z"
    }
   },
   "id": "a88ff139a93788c4",
   "execution_count": 71
  },
  {
   "cell_type": "markdown",
   "source": [
    "# Outliers Detection"
   ],
   "metadata": {
    "collapsed": false
   },
   "id": "d0e845fae200689"
  },
  {
   "cell_type": "code",
   "source": [
    "import pandas as pd\n",
    "import seaborn as sns\n",
    "import matplotlib.pyplot as plt\n",
    "# 1. Load the dataset\n",
    "df = pd.read_csv(\"data/prep-data03.csv\")\n",
    "\n",
    "# 2. Show outlier of each column in df using boxplot\n",
    "plt.figure(figsize=(10, 5))\n",
    "sns.boxplot(data=df)\n",
    "plt.title(\"Boxplot of df before eliminating outliers\")\n",
    "plt.show()\n",
    "\n",
    "# 3. Eliminate outliers of each column in df using IQR\n",
    "Q1 = df['Temperature'].quantile(0.25)\n",
    "Q3 = df['Temperature'].quantile(0.75)\n",
    "IQR = Q3 - Q1\n",
    "df = df[(df['Temperature'] > (Q1 - 1.5 * IQR)) & (df['Temperature'] < (Q3 + 1.5 * IQR))]\n",
    "\n",
    "plt.figure(figsize=(10, 5))\n",
    "sns.boxplot(data=df)\n",
    "plt.title(\"Boxplot of df after eliminating outliers\")\n",
    "plt.show()\n",
    "\n"
   ],
   "metadata": {
    "collapsed": false,
    "ExecuteTime": {
     "end_time": "2024-08-24T14:24:29.070081Z",
     "start_time": "2024-08-24T14:24:28.822602Z"
    }
   },
   "id": "86b283b468c614c8",
   "outputs": [
    {
     "data": {
      "text/plain": [
       "<Figure size 1000x500 with 1 Axes>"
      ],
      "image/png": "[encoded data removed]"
     },
     "metadata": {},
     "output_type": "display_data"
    },
    {
     "data": {
      "text/plain": [
       "<Figure size 1000x500 with 1 Axes>"
      ],
      "image/png": "[encoded data removed]"
     },
     "metadata": {},
     "output_type": "display_data"
    }
   ],
   "execution_count": 1
  }
 ],
 "metadata": {
  "kernelspec": {
   "display_name": "Python 3",
   "language": "python",
   "name": "python3"
  },
  "language_info": {
   "codemirror_mode": {
    "name": "ipython",
    "version": 2
   },
   "file_extension": ".py",
   "mimetype": "text/x-python",
   "name": "python",
   "nbconvert_exporter": "python",
   "pygments_lexer": "ipython2",
   "version": "2.7.6"
  }
 },
 "nbformat": 4,
 "nbformat_minor": 5
}
